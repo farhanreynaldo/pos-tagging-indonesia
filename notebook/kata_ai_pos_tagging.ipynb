{
 "cells": [
  {
   "cell_type": "markdown",
   "metadata": {
    "colab_type": "text",
    "id": "2ePNqKxq36sm"
   },
   "source": [
    "* pertama buat cross validation buat modelnya\n",
    "* grid search optimal parameter\n",
    "* feature ablation dengan nambahin parameter baru ke function generate feature berupa feature mana yang mau dihilangkan dari dictionary\n",
    "* error analysis tapi belum tau"
   ]
  },
  {
   "cell_type": "markdown",
   "metadata": {
    "heading_collapsed": true
   },
   "source": [
    "### TO DO\n",
    "\n",
    "* ~~untuk feature ablation caranya dengan cara buat baseline feature, terus tambahin suffix / prefix via dict update~~ **DONE!**\n",
    "* ~~Terus mesti buat beberapa fold berbeda dengan cara ngubah random state dan save tiap model dengan tiap fold~~ **DONE!**\n"
   ]
  },
  {
   "cell_type": "markdown",
   "metadata": {},
   "source": [
    "## Import Library"
   ]
  },
  {
   "cell_type": "code",
   "execution_count": 1,
   "metadata": {
    "colab": {},
    "colab_type": "code",
    "id": "CbaZ4IcvSE0A"
   },
   "outputs": [],
   "source": [
    "import re\n",
    "from sklearn.model_selection import train_test_split\n",
    "from sklearn.metrics import make_scorer\n",
    "from sklearn.model_selection import RandomizedSearchCV\n",
    "from sklearn.model_selection import cross_validate\n",
    "from sklearn.metrics import classification_report\n",
    "\n",
    "from sklearn_crfsuite import CRF\n",
    "from sklearn_crfsuite import metrics\n",
    "from sklearn_crfsuite import scorers\n",
    "import scipy\n",
    "from pathlib import Path\n",
    "\n",
    "from joblib import dump, load\n",
    "import pandas as pd"
   ]
  },
  {
   "cell_type": "code",
   "execution_count": 2,
   "metadata": {},
   "outputs": [],
   "source": [
    "import sys\n",
    "\n",
    "project_root = Path.cwd().parents[0]\n",
    "data_path = project_root / 'data'\n",
    "model_path = project_root / 'model'\n",
    "\n",
    "src_dir = project_root / 'src'\n",
    "\n",
    "sys.path.append(str(src_dir))"
   ]
  },
  {
   "cell_type": "code",
   "execution_count": 3,
   "metadata": {},
   "outputs": [],
   "source": [
    "%load_ext autoreload\n",
    "%autoreload 2"
   ]
  },
  {
   "cell_type": "code",
   "execution_count": 4,
   "metadata": {},
   "outputs": [],
   "source": [
    "from utils import read_data\n",
    "from visualization import plot_confusion_matrix"
   ]
  },
  {
   "cell_type": "code",
   "execution_count": 5,
   "metadata": {
    "colab": {},
    "colab_type": "code",
    "id": "v9mPAnb34Zt3"
   },
   "outputs": [],
   "source": [
    "corpus_path = data_path / 'Indonesian_Manually_Tagged_Corpus.tsv'\n",
    "tagged_sentences = read_data(corpus_path)"
   ]
  },
  {
   "cell_type": "code",
   "execution_count": 6,
   "metadata": {
    "colab": {
     "base_uri": "https://localhost:8080/",
     "height": 88
    },
    "colab_type": "code",
    "id": "gs5KRjbH4170",
    "outputId": "5e9d8a81-6457-4a20-fcac-3f4c363791d1"
   },
   "outputs": [
    {
     "name": "stdout",
     "output_type": "stream",
     "text": [
      "Number of Tagged Sentences  10030\n",
      "Total Number of Tagged words 256622\n",
      "Vocabulary of the Corpus 18287\n",
      "Number of Tags in the Corpus  24\n"
     ]
    }
   ],
   "source": [
    "print(\"Number of Tagged Sentences \", len(tagged_sentences))\n",
    "tagged_words = [tup for sent in tagged_sentences for tup in sent]\n",
    "print(\"Total Number of Tagged words\", len(tagged_words))\n",
    "vocab = set([word for word, tag in tagged_words])\n",
    "print(\"Vocabulary of the Corpus\", len(vocab))\n",
    "tags = set([tag for word, tag in tagged_words])\n",
    "print(\"Number of Tags in the Corpus \", len(tags))"
   ]
  },
  {
   "cell_type": "code",
   "execution_count": 7,
   "metadata": {},
   "outputs": [
    {
     "data": {
      "text/plain": [
       "Counter({'CC': 7438,\n",
       "         'CD': 17819,\n",
       "         'DT': 381,\n",
       "         'FW': 2365,\n",
       "         'IN': 21311,\n",
       "         'JJ': 9724,\n",
       "         'MD': 5248,\n",
       "         'NEG': 1520,\n",
       "         'NN': 61940,\n",
       "         'NND': 1414,\n",
       "         'NNP': 34649,\n",
       "         'OD': 738,\n",
       "         'PR': 5348,\n",
       "         'PRP': 7583,\n",
       "         'RB': 4903,\n",
       "         'RP': 183,\n",
       "         'SC': 13080,\n",
       "         'SYM': 2210,\n",
       "         'UH': 30,\n",
       "         'VB': 31733,\n",
       "         'WH': 260,\n",
       "         'X': 397,\n",
       "         'Z': 26347,\n",
       "         'fw': 1})"
      ]
     },
     "execution_count": 7,
     "metadata": {},
     "output_type": "execute_result"
    }
   ],
   "source": [
    "from collections import Counter \n",
    "\n",
    "Counter([tag for word, tag in tagged_words])"
   ]
  },
  {
   "cell_type": "markdown",
   "metadata": {
    "colab_type": "text",
    "id": "fm4CRy8c7FdK"
   },
   "source": [
    "## First Model Iteration"
   ]
  },
  {
   "cell_type": "markdown",
   "metadata": {},
   "source": [
    "### Generate All Model"
   ]
  },
  {
   "cell_type": "code",
   "execution_count": 64,
   "metadata": {
    "scrolled": false
   },
   "outputs": [
    {
     "name": "stdout",
     "output_type": "stream",
     "text": [
      "crf-baseline-fold01-seed42.joblib exists\n"
     ]
    },
    {
     "name": "stderr",
     "output_type": "stream",
     "text": [
      "C:\\Users\\ANTHONI\\Anaconda3\\lib\\site-packages\\sklearn\\metrics\\classification.py:1143: UndefinedMetricWarning: Precision and F-score are ill-defined and being set to 0.0 in labels with no predicted samples.\n",
      "  'precision', 'predicted', average, warn_for)\n",
      "C:\\Users\\ANTHONI\\Anaconda3\\lib\\site-packages\\sklearn\\metrics\\classification.py:1145: UndefinedMetricWarning: Recall and F-score are ill-defined and being set to 0.0 in labels with no true samples.\n",
      "  'recall', 'true', average, warn_for)\n"
     ]
    },
    {
     "name": "stdout",
     "output_type": "stream",
     "text": [
      "crf-baseline-fold02-seed29.joblib exists\n",
      "crf-baseline-fold03-seed02.joblib exists\n",
      "crf-baseline-fold04-seed06.joblib exists\n",
      "crf-with-prefix-fold01-seed42.joblib exists\n",
      "crf-with-prefix-fold02-seed29.joblib exists\n",
      "crf-with-prefix-fold03-seed02.joblib exists\n",
      "crf-with-prefix-fold04-seed06.joblib exists\n",
      "crf-with-suffix-fold01-seed42.joblib exists\n",
      "crf-with-suffix-fold02-seed29.joblib exists\n",
      "crf-with-suffix-fold03-seed02.joblib exists\n",
      "crf-with-suffix-fold04-seed06.joblib exists\n",
      "crf-with-allfix-fold01-seed42.joblib exists\n",
      "crf-with-allfix-fold02-seed29.joblib exists\n",
      "crf-with-allfix-fold03-seed02.joblib exists\n",
      "crf-with-allfix-fold04-seed06.joblib exists\n"
     ]
    }
   ],
   "source": [
    "from model import fit_and_dump, prepare_train_test\n",
    "\n",
    "def run_all():\n",
    "    pass\n",
    "\n",
    "models = ['baseline', 'with-prefix', 'with-suffix', 'with-allfix']\n",
    "# seeds = [42, 29, 12, 95, 2, 6]\n",
    "seeds = [42, 29, 2, 6]\n",
    "model_performance = {}\n",
    "performance_df_list = []\n",
    "for model in models:\n",
    "    for index, seed in enumerate(seeds):\n",
    "        model_name = f'crf-{model}-fold{index+1:02d}-seed{seed:02d}.joblib'\n",
    "        path = model_path / model_name\n",
    "        \n",
    "        if not path.exists():\n",
    "            # prepare training and test data\n",
    "            X_train, y_train, X_test, y_test = prepare_train_test(tagged_sentences, seed, path)\n",
    "        \n",
    "            # fit data\n",
    "            crf = fit_and_dump(X_train, y_train, path)\n",
    "    \n",
    "        crf = load(path)\n",
    "        X_train, y_train, X_test, y_test = prepare_train_test(tagged_sentences, seed, path)\n",
    "        print(f'{model_name} exists') \n",
    "\n",
    "        # evaluation\n",
    "        y_pred = crf.predict(X_test)\n",
    "        metric_dict = metrics.flat_classification_report(y_test, y_pred, \n",
    "                                                         labels=crf.classes_, digits=3, \n",
    "                                                         output_dict=True)\n",
    "        performance_df = pd.DataFrame(metric_dict).T.reset_index().assign(model_name = model_name)\n",
    "        performance_df_list.append(performance_df)\n",
    "performance_dfs = pd.concat(performance_df_list).reset_index(drop=True).rename(columns={'index': 'tags_overall'})\n",
    "performance_dfs['model_type'] = performance_dfs['model_name'].str.split('-fold').str[0]\n",
    "performance_dfs.to_csv(model_path / 'model performance.csv', index=False)"
   ]
  },
  {
   "cell_type": "code",
   "execution_count": 8,
   "metadata": {},
   "outputs": [
    {
     "data": {
      "text/html": [
       "<div>\n",
       "<style scoped>\n",
       "    .dataframe tbody tr th:only-of-type {\n",
       "        vertical-align: middle;\n",
       "    }\n",
       "\n",
       "    .dataframe tbody tr th {\n",
       "        vertical-align: top;\n",
       "    }\n",
       "\n",
       "    .dataframe thead th {\n",
       "        text-align: right;\n",
       "    }\n",
       "</style>\n",
       "<table border=\"1\" class=\"dataframe\">\n",
       "  <thead>\n",
       "    <tr style=\"text-align: right;\">\n",
       "      <th></th>\n",
       "      <th>mean</th>\n",
       "      <th>std</th>\n",
       "    </tr>\n",
       "    <tr>\n",
       "      <th>model_type</th>\n",
       "      <th></th>\n",
       "      <th></th>\n",
       "    </tr>\n",
       "  </thead>\n",
       "  <tbody>\n",
       "    <tr>\n",
       "      <th>crf-baseline</th>\n",
       "      <td>71.726102</td>\n",
       "      <td>0.251751</td>\n",
       "    </tr>\n",
       "    <tr>\n",
       "      <th>crf-with-allfix</th>\n",
       "      <td>97.304530</td>\n",
       "      <td>0.093265</td>\n",
       "    </tr>\n",
       "    <tr>\n",
       "      <th>crf-with-prefix</th>\n",
       "      <td>95.384298</td>\n",
       "      <td>0.041855</td>\n",
       "    </tr>\n",
       "    <tr>\n",
       "      <th>crf-with-suffix</th>\n",
       "      <td>94.197502</td>\n",
       "      <td>0.091220</td>\n",
       "    </tr>\n",
       "  </tbody>\n",
       "</table>\n",
       "</div>"
      ],
      "text/plain": [
       "                      mean       std\n",
       "model_type                          \n",
       "crf-baseline     71.726102  0.251751\n",
       "crf-with-allfix  97.304530  0.093265\n",
       "crf-with-prefix  95.384298  0.041855\n",
       "crf-with-suffix  94.197502  0.091220"
      ]
     },
     "execution_count": 8,
     "metadata": {},
     "output_type": "execute_result"
    }
   ],
   "source": [
    "import seaborn as sns\n",
    "import numpy as np\n",
    "\n",
    "performance_dfs = pd.read_csv(data_path / 'model performance.csv')\n",
    "data = performance_dfs.query(\"tags_overall == 'weighted avg'\")\n",
    "model_avg_f1 = data.groupby('model_type')['f1-score'].agg([np.mean, np.std]) * 100\n",
    "model_avg_f1\n",
    "# sns.boxplot('model_type', 'f1-score', data=data)"
   ]
  },
  {
   "cell_type": "markdown",
   "metadata": {},
   "source": [
    "### Best Model Confusion Matrix"
   ]
  },
  {
   "cell_type": "code",
   "execution_count": 72,
   "metadata": {},
   "outputs": [
    {
     "name": "stderr",
     "output_type": "stream",
     "text": [
      "C:\\Users\\ANTHONI\\Anaconda3\\lib\\site-packages\\sklearn\\metrics\\classification.py:1143: UndefinedMetricWarning: Precision and F-score are ill-defined and being set to 0.0 in labels with no predicted samples.\n",
      "  'precision', 'predicted', average, warn_for)\n",
      "C:\\Users\\ANTHONI\\Anaconda3\\lib\\site-packages\\sklearn\\metrics\\classification.py:1145: UndefinedMetricWarning: Recall and F-score are ill-defined and being set to 0.0 in labels with no true samples.\n",
      "  'recall', 'true', average, warn_for)\n"
     ]
    },
    {
     "name": "stdout",
     "output_type": "stream",
     "text": [
      "              precision    recall  f1-score   support\n",
      "\n",
      "          IN      0.963     0.968     0.965      4096\n",
      "          NN      0.970     0.974     0.972     12316\n",
      "          JJ      0.949     0.948     0.948      1972\n",
      "          PR      0.997     0.995     0.996      1111\n",
      "           Z      0.998     0.998     0.998      5211\n",
      "          CD      0.995     0.993     0.994      3591\n",
      "         SYM      1.000     0.991     0.995       428\n",
      "          VB      0.990     0.988     0.989      6371\n",
      "          CC      0.988     0.979     0.983      1552\n",
      "          RB      0.977     0.960     0.968      1007\n",
      "          MD      0.993     0.985     0.989      1054\n",
      "         PRP      0.997     0.994     0.996      1549\n",
      "         NNP      0.951     0.964     0.958      6661\n",
      "          SC      0.949     0.957     0.953      2601\n",
      "         NND      0.939     0.906     0.922       255\n",
      "          FW      0.916     0.810     0.860       458\n",
      "         NEG      0.993     0.997     0.995       287\n",
      "           X      0.800     0.434     0.562        83\n",
      "          OD      0.945     0.883     0.913       137\n",
      "          DT      0.972     0.972     0.972        72\n",
      "          RP      1.000     0.933     0.966        30\n",
      "          WH      0.956     0.878     0.915        49\n",
      "          UH      0.667     1.000     0.800         2\n",
      "          fw      0.000     0.000     0.000         0\n",
      "\n",
      "   micro avg      0.974     0.974     0.974     50893\n",
      "   macro avg      0.913     0.896     0.900     50893\n",
      "weighted avg      0.974     0.974     0.974     50893\n",
      "\n"
     ]
    }
   ],
   "source": [
    "from model import fit_and_dump, prepare_train_test\n",
    "\n",
    "path = model_path / 'crf-with-allfix-fold01-seed42.joblib'\n",
    "crf = load(path)\n",
    "seed = int(str(path).split('.')[0][-2:])\n",
    "X_train, y_train, X_test, y_test = prepare_train_test(tagged_sentences, seed, path)\n",
    "train_set, test_set = train_test_split(tagged_sentences, test_size=0.2, random_state=seed)\n",
    "\n",
    "y_pred = crf.predict(X_test)\n",
    "print(metrics.flat_classification_report(y_test, y_pred, labels=crf.classes_, digits=3))"
   ]
  },
  {
   "cell_type": "code",
   "execution_count": 10,
   "metadata": {
    "scrolled": false
   },
   "outputs": [
    {
     "name": "stderr",
     "output_type": "stream",
     "text": [
      "C:\\Users\\ANTHONI\\Documents\\kataai\\src\\visualization.py:20: RuntimeWarning: invalid value encountered in true_divide\n",
      "  matrix = matrix.astype('float') / matrix.sum(axis=1)[:, np.newaxis]\n"
     ]
    },
    {
     "data": {
      "image/png": "[encoded data removed]",
      "text/plain": [
       "<matplotlib.figure.Figure at 0x3d8e881cf8>"
      ]
     },
     "metadata": {},
     "output_type": "display_data"
    }
   ],
   "source": [
    "from visualization import plot_confusion_matrix\n",
    "\n",
    "plot_confusion_matrix(y_test, y_pred, crf.classes_);"
   ]
  },
  {
   "cell_type": "code",
   "execution_count": null,
   "metadata": {},
   "outputs": [],
   "source": []
  },
  {
   "cell_type": "code",
   "execution_count": null,
   "metadata": {},
   "outputs": [],
   "source": []
  },
  {
   "cell_type": "markdown",
   "metadata": {},
   "source": [
    "### Error analysis initial based on confusion matrix"
   ]
  },
  {
   "cell_type": "code",
   "execution_count": 11,
   "metadata": {},
   "outputs": [],
   "source": [
    "# get sentence index for every tag\n",
    "d = []\n",
    "for index, sentence in enumerate(y_test):\n",
    "    for tag in sentence:\n",
    "        d.append((index, tag))"
   ]
  },
  {
   "cell_type": "code",
   "execution_count": 150,
   "metadata": {
    "scrolled": false
   },
   "outputs": [],
   "source": [
    "import pandas as pd\n",
    "from utils import flatten\n",
    "\n",
    "\n",
    "df = pd.DataFrame(d, columns=['sentence_index', 'y_test'])\n",
    "df['y_pred'] = flatten(y_pred)\n",
    "df['word'] = [word for sentence in test_set for word, _ in sentence]\n",
    "\n",
    "# df[(df.y_test == 'X') & (df.y_pred == 'NN')]\n",
    "# df[(df.y_test == 'X')]\n",
    "# df[(df.y_test == 'WH') & (df.y_pred == 'SC')]\n",
    "# df[(df.y_test == 'WH')].drop_duplicates(subset=['y_test', 'y_pred', 'word'])\n",
    "# test_set[695]"
   ]
  },
  {
   "cell_type": "code",
   "execution_count": 73,
   "metadata": {
    "scrolled": true
   },
   "outputs": [
    {
     "data": {
      "text/html": [
       "<div>\n",
       "<style scoped>\n",
       "    .dataframe tbody tr th:only-of-type {\n",
       "        vertical-align: middle;\n",
       "    }\n",
       "\n",
       "    .dataframe tbody tr th {\n",
       "        vertical-align: top;\n",
       "    }\n",
       "\n",
       "    .dataframe thead th {\n",
       "        text-align: right;\n",
       "    }\n",
       "</style>\n",
       "<table border=\"1\" class=\"dataframe\">\n",
       "  <thead>\n",
       "    <tr style=\"text-align: right;\">\n",
       "      <th></th>\n",
       "      <th>sentence_index</th>\n",
       "      <th>y_test</th>\n",
       "      <th>y_pred</th>\n",
       "      <th>word</th>\n",
       "    </tr>\n",
       "  </thead>\n",
       "  <tbody>\n",
       "    <tr>\n",
       "      <th>15943</th>\n",
       "      <td>627</td>\n",
       "      <td>IN</td>\n",
       "      <td>IN</td>\n",
       "      <td>antar</td>\n",
       "    </tr>\n",
       "    <tr>\n",
       "      <th>46102</th>\n",
       "      <td>1816</td>\n",
       "      <td>IN</td>\n",
       "      <td>IN</td>\n",
       "      <td>antar</td>\n",
       "    </tr>\n",
       "  </tbody>\n",
       "</table>\n",
       "</div>"
      ],
      "text/plain": [
       "       sentence_index y_test y_pred   word\n",
       "15943             627     IN     IN  antar\n",
       "46102            1816     IN     IN  antar"
      ]
     },
     "execution_count": 73,
     "metadata": {},
     "output_type": "execute_result"
    }
   ],
   "source": [
    "df[df.word == 'antar']\n",
    "# test_set[627]"
   ]
  },
  {
   "cell_type": "code",
   "execution_count": 94,
   "metadata": {},
   "outputs": [],
   "source": [
    "from model import prepare_data"
   ]
  },
  {
   "cell_type": "code",
   "execution_count": 171,
   "metadata": {},
   "outputs": [],
   "source": [
    "from sklearn.metrics import confusion_matrix\n",
    "def error_analysis(error_set):\n",
    "    path = model_path / 'crf-with-allfix-fold01-seed42.joblib'\n",
    "    crf = load(path)\n",
    "    X_test, y_test = prepare_data(error_set, prefix=True, suffix=True)\n",
    "    y_pred = crf.predict(X_test)\n",
    "    words = [word for sent in error_set for word, _ in sent]\n",
    "    return pd.DataFrame({'words': words, 'true label': y_test[0], 'predict label': y_pred[0]})"
   ]
  },
  {
   "cell_type": "code",
   "execution_count": 172,
   "metadata": {},
   "outputs": [],
   "source": [
    "error_1 = [[('Nilai', 'NN'),\n",
    "  ('tukar', 'VB'),\n",
    "  ('rupiah', 'NN'),\n",
    "  ('terhadap', 'IN'),\n",
    "  ('dolar', 'NN'),\n",
    "  ('AS', 'NNP'),\n",
    "  ('di', 'IN'),\n",
    "  ('pasar', 'NN'),\n",
    "  ('spot', 'NNP'),\n",
    "  ('antarnegara', 'X'),\n",
    "  (',', 'Z'),\n",
    "  ('Senin', 'NNP'),\n",
    "  ('sore', 'NN'),\n",
    "  ('melemah', 'VB'),\n",
    "  ('lima', 'CD'),\n",
    "  ('poin', 'NN')]]"
   ]
  },
  {
   "cell_type": "code",
   "execution_count": 173,
   "metadata": {
    "scrolled": true
   },
   "outputs": [
    {
     "data": {
      "text/html": [
       "<div>\n",
       "<style scoped>\n",
       "    .dataframe tbody tr th:only-of-type {\n",
       "        vertical-align: middle;\n",
       "    }\n",
       "\n",
       "    .dataframe tbody tr th {\n",
       "        vertical-align: top;\n",
       "    }\n",
       "\n",
       "    .dataframe thead th {\n",
       "        text-align: right;\n",
       "    }\n",
       "</style>\n",
       "<table border=\"1\" class=\"dataframe\">\n",
       "  <thead>\n",
       "    <tr style=\"text-align: right;\">\n",
       "      <th></th>\n",
       "      <th>predict label</th>\n",
       "      <th>true label</th>\n",
       "      <th>words</th>\n",
       "    </tr>\n",
       "  </thead>\n",
       "  <tbody>\n",
       "    <tr>\n",
       "      <th>0</th>\n",
       "      <td>NN</td>\n",
       "      <td>NN</td>\n",
       "      <td>Nilai</td>\n",
       "    </tr>\n",
       "    <tr>\n",
       "      <th>1</th>\n",
       "      <td>VB</td>\n",
       "      <td>VB</td>\n",
       "      <td>tukar</td>\n",
       "    </tr>\n",
       "    <tr>\n",
       "      <th>2</th>\n",
       "      <td>NN</td>\n",
       "      <td>NN</td>\n",
       "      <td>rupiah</td>\n",
       "    </tr>\n",
       "    <tr>\n",
       "      <th>3</th>\n",
       "      <td>IN</td>\n",
       "      <td>IN</td>\n",
       "      <td>terhadap</td>\n",
       "    </tr>\n",
       "    <tr>\n",
       "      <th>4</th>\n",
       "      <td>NN</td>\n",
       "      <td>NN</td>\n",
       "      <td>dolar</td>\n",
       "    </tr>\n",
       "    <tr>\n",
       "      <th>5</th>\n",
       "      <td>NNP</td>\n",
       "      <td>NNP</td>\n",
       "      <td>AS</td>\n",
       "    </tr>\n",
       "    <tr>\n",
       "      <th>6</th>\n",
       "      <td>IN</td>\n",
       "      <td>IN</td>\n",
       "      <td>di</td>\n",
       "    </tr>\n",
       "    <tr>\n",
       "      <th>7</th>\n",
       "      <td>NN</td>\n",
       "      <td>NN</td>\n",
       "      <td>pasar</td>\n",
       "    </tr>\n",
       "    <tr>\n",
       "      <th>8</th>\n",
       "      <td>NNP</td>\n",
       "      <td>NNP</td>\n",
       "      <td>spot</td>\n",
       "    </tr>\n",
       "    <tr>\n",
       "      <th>9</th>\n",
       "      <td>NN</td>\n",
       "      <td>X</td>\n",
       "      <td>antarnegara</td>\n",
       "    </tr>\n",
       "    <tr>\n",
       "      <th>10</th>\n",
       "      <td>Z</td>\n",
       "      <td>Z</td>\n",
       "      <td>,</td>\n",
       "    </tr>\n",
       "    <tr>\n",
       "      <th>11</th>\n",
       "      <td>NNP</td>\n",
       "      <td>NNP</td>\n",
       "      <td>Senin</td>\n",
       "    </tr>\n",
       "    <tr>\n",
       "      <th>12</th>\n",
       "      <td>NN</td>\n",
       "      <td>NN</td>\n",
       "      <td>sore</td>\n",
       "    </tr>\n",
       "    <tr>\n",
       "      <th>13</th>\n",
       "      <td>VB</td>\n",
       "      <td>VB</td>\n",
       "      <td>melemah</td>\n",
       "    </tr>\n",
       "    <tr>\n",
       "      <th>14</th>\n",
       "      <td>CD</td>\n",
       "      <td>CD</td>\n",
       "      <td>lima</td>\n",
       "    </tr>\n",
       "    <tr>\n",
       "      <th>15</th>\n",
       "      <td>NN</td>\n",
       "      <td>NN</td>\n",
       "      <td>poin</td>\n",
       "    </tr>\n",
       "  </tbody>\n",
       "</table>\n",
       "</div>"
      ],
      "text/plain": [
       "   predict label true label        words\n",
       "0             NN         NN        Nilai\n",
       "1             VB         VB        tukar\n",
       "2             NN         NN       rupiah\n",
       "3             IN         IN     terhadap\n",
       "4             NN         NN        dolar\n",
       "5            NNP        NNP           AS\n",
       "6             IN         IN           di\n",
       "7             NN         NN        pasar\n",
       "8            NNP        NNP         spot\n",
       "9             NN          X  antarnegara\n",
       "10             Z          Z            ,\n",
       "11           NNP        NNP        Senin\n",
       "12            NN         NN         sore\n",
       "13            VB         VB      melemah\n",
       "14            CD         CD         lima\n",
       "15            NN         NN         poin"
      ]
     },
     "execution_count": 173,
     "metadata": {},
     "output_type": "execute_result"
    }
   ],
   "source": [
    "error_analysis(error_1)"
   ]
  },
  {
   "cell_type": "markdown",
   "metadata": {
    "colab_type": "text",
    "id": "5WonxezIqyfc"
   },
   "source": [
    "### precision, recall, and F1 scores"
   ]
  },
  {
   "cell_type": "code",
   "execution_count": 26,
   "metadata": {
    "colab": {
     "base_uri": "https://localhost:8080/",
     "height": 550
    },
    "colab_type": "code",
    "id": "eBLt97W3Cq97",
    "outputId": "417bb96c-30c0-422b-f0e1-b35f60427435"
   },
   "outputs": [
    {
     "name": "stderr",
     "output_type": "stream",
     "text": [
      "C:\\Users\\ANTHONI\\Anaconda3\\lib\\site-packages\\sklearn\\metrics\\classification.py:1143: UndefinedMetricWarning: Precision and F-score are ill-defined and being set to 0.0 in labels with no predicted samples.\n",
      "  'precision', 'predicted', average, warn_for)\n",
      "C:\\Users\\ANTHONI\\Anaconda3\\lib\\site-packages\\sklearn\\metrics\\classification.py:1145: UndefinedMetricWarning: Recall and F-score are ill-defined and being set to 0.0 in labels with no true samples.\n",
      "  'recall', 'true', average, warn_for)\n"
     ]
    },
    {
     "name": "stdout",
     "output_type": "stream",
     "text": [
      "              precision    recall  f1-score   support\n",
      "\n",
      "          IN      0.963     0.968     0.965      4096\n",
      "          NN      0.970     0.974     0.972     12316\n",
      "          JJ      0.949     0.948     0.948      1972\n",
      "          PR      0.997     0.995     0.996      1111\n",
      "           Z      0.998     0.998     0.998      5211\n",
      "          CD      0.995     0.993     0.994      3591\n",
      "         SYM      1.000     0.991     0.995       428\n",
      "          VB      0.990     0.988     0.989      6371\n",
      "          CC      0.988     0.979     0.983      1552\n",
      "          RB      0.977     0.960     0.968      1007\n",
      "          MD      0.993     0.985     0.989      1054\n",
      "         PRP      0.997     0.994     0.996      1549\n",
      "         NNP      0.951     0.964     0.958      6661\n",
      "          SC      0.949     0.957     0.953      2601\n",
      "         NND      0.939     0.906     0.922       255\n",
      "          FW      0.916     0.810     0.860       458\n",
      "         NEG      0.993     0.997     0.995       287\n",
      "           X      0.800     0.434     0.562        83\n",
      "          OD      0.945     0.883     0.913       137\n",
      "          DT      0.972     0.972     0.972        72\n",
      "          RP      1.000     0.933     0.966        30\n",
      "          WH      0.956     0.878     0.915        49\n",
      "          UH      0.667     1.000     0.800         2\n",
      "          fw      0.000     0.000     0.000         0\n",
      "\n",
      "   micro avg      0.974     0.974     0.974     50893\n",
      "   macro avg      0.913     0.896     0.900     50893\n",
      "weighted avg      0.974     0.974     0.974     50893\n",
      "\n"
     ]
    }
   ],
   "source": [
    "print(metrics.flat_classification_report(\n",
    "    y_test, y_pred, labels=crf_model.classes_, digits=3\n",
    "))"
   ]
  },
  {
   "cell_type": "code",
   "execution_count": 34,
   "metadata": {},
   "outputs": [
    {
     "name": "stderr",
     "output_type": "stream",
     "text": [
      "C:\\Users\\ANTHONI\\Anaconda3\\lib\\site-packages\\sklearn\\metrics\\classification.py:1143: UndefinedMetricWarning: F-score is ill-defined and being set to 0.0 in labels with no predicted samples.\n",
      "  'precision', 'predicted', average, warn_for)\n",
      "C:\\Users\\ANTHONI\\Anaconda3\\lib\\site-packages\\sklearn\\metrics\\classification.py:1145: UndefinedMetricWarning: F-score is ill-defined and being set to 0.0 in labels with no true samples.\n",
      "  'recall', 'true', average, warn_for)\n"
     ]
    },
    {
     "name": "stdout",
     "output_type": "stream",
     "text": [
      "weighted f1 score test set: 0.9741426280108842\n",
      "weighted f1 score train set: 0.9944000116957855\n",
      "accuracy score test set: 0.9743383176468277\n",
      "accuracy score train set: 0.9944052612903382\n"
     ]
    }
   ],
   "source": [
    "def metrics_evaluation(crf, y_test, y_pred):\n",
    "    test_f1_score = metrics.flat_f1_score(y_test, y_pred, average='weighted', labels=crf.classes_)\n",
    "    train_f1_score = metrics.flat_f1_score(y_train, y_pred_train, average='weighted', labels=crf.classes_)\n",
    "    test_accuracy_score = metrics.flat_accuracy_score(y_test, y_pred)\n",
    "    train_accuracy_score = metrics.flat_accuracy_score(y_train, y_pred_train)\n",
    "\n",
    "    print(f'weighted f1 score test set: {test_f1_score}')\n",
    "    print(f'weighted f1 score train set: {train_f1_score}')\n",
    "    print(f'accuracy score test set: {test_accuracy_score}')\n",
    "    print(f'accuracy score train set: {train_accuracy_score}')\n",
    "    \n",
    "metrics_evaluation(crf_model, y_test, y_pred)"
   ]
  },
  {
   "cell_type": "markdown",
   "metadata": {
    "colab_type": "text",
    "heading_collapsed": true,
    "id": "lv3IPIj8FZE3"
   },
   "source": [
    "#### Confusion Matrix"
   ]
  },
  {
   "cell_type": "markdown",
   "metadata": {
    "heading_collapsed": true
   },
   "source": [
    "#### Another Feature Ablation"
   ]
  },
  {
   "cell_type": "code",
   "execution_count": null,
   "metadata": {
    "hidden": true
   },
   "outputs": [],
   "source": []
  },
  {
   "cell_type": "code",
   "execution_count": 36,
   "metadata": {
    "hidden": true
   },
   "outputs": [],
   "source": [
    "from model import prepareData\n",
    "\n",
    "X_train, y_train = prepareData(train_set)\n",
    "X_test, y_test = prepareData(test_set)"
   ]
  },
  {
   "cell_type": "code",
   "execution_count": 117,
   "metadata": {
    "hidden": true
   },
   "outputs": [],
   "source": [
    "crf_without_prefix = model_path / 'crf-without-prefix.joblib'\n",
    "if crf_without_prefix.exists():\n",
    "    crf_without_prefix = load(crf_without_prefix)\n",
    "else:\n",
    "    print(False)\n",
    "\n",
    "crf_without_suffix = model_path / 'crf-without-suffix.joblib'\n",
    "if crf_without_suffix.exists():\n",
    "    crf_without_suffix = load(crf_without_suffix)\n",
    "else:\n",
    "    print(False)\n",
    "    \n",
    "crf_without_suffix = model_path / 'crf-without-anyfix.joblib'\n",
    "if crf_without_suffix.exists():\n",
    "    crf_without_suffix = load(crf_without_suffix)\n",
    "else:\n",
    "    print(False)"
   ]
  },
  {
   "cell_type": "markdown",
   "metadata": {
    "heading_collapsed": true
   },
   "source": [
    "### Compare results"
   ]
  },
  {
   "cell_type": "code",
   "execution_count": null,
   "metadata": {
    "hidden": true
   },
   "outputs": [],
   "source": []
  },
  {
   "cell_type": "code",
   "execution_count": null,
   "metadata": {
    "hidden": true
   },
   "outputs": [],
   "source": []
  },
  {
   "cell_type": "code",
   "execution_count": null,
   "metadata": {
    "hidden": true
   },
   "outputs": [],
   "source": []
  },
  {
   "cell_type": "markdown",
   "metadata": {
    "heading_collapsed": true
   },
   "source": [
    "### Another feature extraction"
   ]
  },
  {
   "cell_type": "code",
   "execution_count": 48,
   "metadata": {
    "hidden": true
   },
   "outputs": [],
   "source": [
    "def word2features(sent, i):\n",
    "    word = sent[i][0]\n",
    "    postag = sent[i][1]\n",
    "\n",
    "    features = {\n",
    "        'bias': 1.0,\n",
    "        'word.lower()': word.lower(),\n",
    "        'word[-3:]': word[-3:],\n",
    "        'word[-2:]': word[-2:],\n",
    "        'word.isupper()': word.isupper(),\n",
    "        'word.istitle()': word.istitle(),\n",
    "        'word.isdigit()': word.isdigit(),\n",
    "        'postag': postag,\n",
    "        'postag[:2]': postag[:2],\n",
    "        'is_first_word': i == 0,\n",
    "        'is_last_word': i == len(sent)-1\n",
    "    }\n",
    "    \n",
    "    if i > 0:\n",
    "        word1 = sent[i-1][0]\n",
    "        postag1 = sent[i-1][1]\n",
    "        features.update({\n",
    "            '-1:word.lower()': word1.lower(),\n",
    "            '-1:word.istitle()': word1.istitle(),\n",
    "            '-1:word.isupper()': word1.isupper(),\n",
    "            '-1:postag': postag1,\n",
    "            '-1:postag[:2]': postag1[:2],\n",
    "        })\n",
    "\n",
    "    if i < len(sent)-1:\n",
    "        word1 = sent[i+1][0]\n",
    "        postag1 = sent[i+1][1]\n",
    "        features.update({\n",
    "            '+1:word.lower()': word1.lower(),\n",
    "            '+1:word.istitle()': word1.istitle(),\n",
    "            '+1:word.isupper()': word1.isupper(),\n",
    "            '+1:postag': postag1,\n",
    "            '+1:postag[:2]': postag1[:2],\n",
    "        })\n",
    "\n",
    "    return features\n",
    "\n",
    "\n",
    "def sent2features(sent):\n",
    "    return [word2features(sent, i) for i in range(len(sent))]\n",
    "\n",
    "def sent2labels(sent):\n",
    "    return [postag for token, postag in sent]\n",
    "\n",
    "def sent2tokens(sent):\n",
    "    return [token for token, postag in sent]"
   ]
  },
  {
   "cell_type": "code",
   "execution_count": 49,
   "metadata": {
    "hidden": true
   },
   "outputs": [],
   "source": [
    "train_set, test_set = train_test_split(tagged_sentences, test_size=0.8, random_state=21)"
   ]
  },
  {
   "cell_type": "code",
   "execution_count": null,
   "metadata": {
    "hidden": true
   },
   "outputs": [],
   "source": []
  },
  {
   "cell_type": "code",
   "execution_count": null,
   "metadata": {
    "hidden": true
   },
   "outputs": [],
   "source": [
    "X_train = [sent2features(s) for s in train_set]\n",
    "y_train = [sent2labels(s) for s in train_set]\n",
    "\n",
    "X_test = [sent2features(s) for s in test_set]\n",
    "y_test = [sent2labels(s) for s in test_set]"
   ]
  },
  {
   "cell_type": "code",
   "execution_count": null,
   "metadata": {
    "hidden": true
   },
   "outputs": [],
   "source": [
    "crf = CRF(\n",
    "    algorithm='lbfgs',\n",
    "    c1=0.01,\n",
    "    c2=0.1,\n",
    "    max_iterations=100,\n",
    "    all_possible_transitions=True\n",
    ")\n",
    "crf.fit(X_train, y_train)"
   ]
  },
  {
   "cell_type": "code",
   "execution_count": null,
   "metadata": {
    "hidden": true
   },
   "outputs": [],
   "source": [
    "y_pred = crf.predict(X_test)\n",
    "y_pred_train = crf.predict(X_train)"
   ]
  },
  {
   "cell_type": "code",
   "execution_count": null,
   "metadata": {
    "hidden": true
   },
   "outputs": [],
   "source": [
    "print(metrics.flat_classification_report(\n",
    "    y_test, y_pred, labels=crf.classes_, digits=3\n",
    "))"
   ]
  },
  {
   "cell_type": "markdown",
   "metadata": {
    "colab_type": "text",
    "heading_collapsed": true,
    "hidden": true,
    "id": "n-tX4RACEH9O"
   },
   "source": [
    "#### Previous Metrics Used"
   ]
  },
  {
   "cell_type": "code",
   "execution_count": 0,
   "metadata": {
    "colab": {
     "base_uri": "https://localhost:8080/",
     "height": 35
    },
    "colab_type": "code",
    "hidden": true,
    "id": "hWnd_u627A9E",
    "outputId": "7acfaf29-4eac-4a2a-c052-5ef3d3c5a1d2"
   },
   "outputs": [
    {
     "data": {
      "text/plain": [
       "0.9724534681067327"
      ]
     },
     "execution_count": 15,
     "metadata": {
      "tags": []
     },
     "output_type": "execute_result"
    }
   ],
   "source": [
    "metrics.flat_f1_score(y_test, y_pred, average='weighted', labels=crf.classes_)"
   ]
  },
  {
   "cell_type": "code",
   "execution_count": 0,
   "metadata": {
    "colab": {
     "base_uri": "https://localhost:8080/",
     "height": 35
    },
    "colab_type": "code",
    "hidden": true,
    "id": "lfsrZ3uJ7A9O",
    "outputId": "d5c524a5-231e-4e6d-e3d6-a8d748c5bc6b"
   },
   "outputs": [
    {
     "data": {
      "text/plain": [
       "0.9945989057594046"
      ]
     },
     "execution_count": 16,
     "metadata": {
      "tags": []
     },
     "output_type": "execute_result"
    }
   ],
   "source": [
    "metrics.flat_f1_score(y_train, y_pred_train, average='weighted', labels=crf.classes_)"
   ]
  },
  {
   "cell_type": "code",
   "execution_count": 0,
   "metadata": {
    "colab": {
     "base_uri": "https://localhost:8080/",
     "height": 35
    },
    "colab_type": "code",
    "hidden": true,
    "id": "I4dh7wH-7A9v",
    "outputId": "79308f4d-b3fc-41a9-fbfe-5dd3c9558bc6"
   },
   "outputs": [
    {
     "data": {
      "text/plain": [
       "0.9726862168931312"
      ]
     },
     "execution_count": 17,
     "metadata": {
      "tags": []
     },
     "output_type": "execute_result"
    }
   ],
   "source": [
    "metrics.flat_accuracy_score(y_test, y_pred)"
   ]
  },
  {
   "cell_type": "code",
   "execution_count": 0,
   "metadata": {
    "colab": {
     "base_uri": "https://localhost:8080/",
     "height": 35
    },
    "colab_type": "code",
    "hidden": true,
    "id": "3OijVcF57A95",
    "outputId": "77ff23f4-724f-4662-f6e9-21fd707ac640",
    "scrolled": true
   },
   "outputs": [
    {
     "data": {
      "text/plain": [
       "0.9946048580558065"
      ]
     },
     "execution_count": 18,
     "metadata": {
      "tags": []
     },
     "output_type": "execute_result"
    }
   ],
   "source": [
    "metrics.flat_accuracy_score(y_train, y_pred_train)"
   ]
  },
  {
   "cell_type": "code",
   "execution_count": 0,
   "metadata": {
    "colab": {
     "base_uri": "https://localhost:8080/",
     "height": 550
    },
    "colab_type": "code",
    "hidden": true,
    "id": "Dndb4cBm7A-F",
    "outputId": "220ff408-0c6c-418b-e095-3f31032abbe0",
    "scrolled": false
   },
   "outputs": [
    {
     "name": "stdout",
     "output_type": "stream",
     "text": [
      "              precision    recall  f1-score   support\n",
      "\n",
      "          VB      0.991     0.988     0.989      6283\n",
      "          CD      0.993     0.992     0.992      3587\n",
      "          NN      0.969     0.974     0.971     12439\n",
      "          IN      0.958     0.969     0.963      4160\n",
      "          PR      0.997     0.993     0.995      1089\n",
      "           Z      0.998     0.998     0.998      5200\n",
      "          CC      0.988     0.977     0.983      1483\n",
      "          MD      0.995     0.985     0.990      1034\n",
      "          SC      0.948     0.949     0.949      2597\n",
      "          JJ      0.943     0.944     0.944      1945\n",
      "         PRP      0.999     0.992     0.995      1484\n",
      "          RB      0.981     0.963     0.972       980\n",
      "         NNP      0.947     0.960     0.953      6550\n",
      "          FW      0.901     0.791     0.842       473\n",
      "         NEG      0.993     0.993     0.993       282\n",
      "         SYM      0.998     0.993     0.995       439\n",
      "         NND      0.953     0.901     0.926       292\n",
      "          OD      0.917     0.880     0.898       150\n",
      "          WH      0.955     0.875     0.913        48\n",
      "           X      0.735     0.347     0.472        72\n",
      "          RP      0.973     0.973     0.973        37\n",
      "          DT      1.000     0.975     0.987        79\n",
      "          UH      0.667     0.667     0.667         3\n",
      "\n",
      "   micro avg      0.973     0.973     0.973     50706\n",
      "   macro avg      0.948     0.916     0.929     50706\n",
      "weighted avg      0.973     0.973     0.972     50706\n",
      "\n"
     ]
    }
   ],
   "source": [
    "print(metrics.flat_classification_report(\n",
    "    y_test, y_pred, labels=crf.classes_, digits=3\n",
    "))"
   ]
  },
  {
   "cell_type": "markdown",
   "metadata": {
    "colab_type": "text",
    "heading_collapsed": true,
    "id": "6zZYWT_m6uNg"
   },
   "source": [
    "## Hyperparameter Optimization"
   ]
  },
  {
   "cell_type": "code",
   "execution_count": 63,
   "metadata": {
    "hidden": true
   },
   "outputs": [],
   "source": [
    "# crf = CRF(\n",
    "#     algorithm='lbfgs',\n",
    "#     c1=0.01,\n",
    "#     c2=0.1,\n",
    "#     max_iterations=100,\n",
    "#     all_possible_transitions=True\n",
    "# )\n",
    "# crf.fit(X_train, y_train)"
   ]
  },
  {
   "cell_type": "code",
   "execution_count": 61,
   "metadata": {
    "colab": {
     "base_uri": "https://localhost:8080/",
     "height": 239
    },
    "colab_type": "code",
    "hidden": true,
    "id": "kmIFCJ0z5rty",
    "outputId": "7c0aeff4-a7f3-4737-fe02-4bb253fd9560"
   },
   "outputs": [],
   "source": [
    "# labels = crf.classes_\n",
    "\n",
    "# # define fixed parameters and parameters to search\n",
    "# crf = CRF(\n",
    "#     algorithm='lbfgs',\n",
    "#     max_iterations=100,\n",
    "#     all_possible_transitions=True\n",
    "# )\n",
    "# params_space = {\n",
    "#     'c1': scipy.stats.expon(scale=0.5),\n",
    "#     'c2': scipy.stats.expon(scale=0.05),\n",
    "# }\n",
    "\n",
    "# # use the same metric for evaluation\n",
    "# f1_scorer = make_scorer(metrics.flat_f1_score,\n",
    "#                         average='weighted', labels=labels)\n",
    "\n",
    "# # search\n",
    "# rs = RandomizedSearchCV(crf, params_space,\n",
    "#                         cv=3,\n",
    "#                         verbose=1,\n",
    "#                         n_jobs=-1,\n",
    "#                         n_iter=10,\n",
    "#                         scoring=f1_scorer)\n",
    "# rs.fit(X_train, y_train)"
   ]
  },
  {
   "cell_type": "markdown",
   "metadata": {
    "colab_type": "text",
    "heading_collapsed": true,
    "id": "8BSLjJALSMvI"
   },
   "source": [
    "## Exploratory"
   ]
  },
  {
   "cell_type": "code",
   "execution_count": 0,
   "metadata": {
    "colab": {},
    "colab_type": "code",
    "hidden": true,
    "id": "Gu-OiMvwSOLq"
   },
   "outputs": [],
   "source": [
    "tags = [tag for word, tag in tagged_words]"
   ]
  },
  {
   "cell_type": "code",
   "execution_count": 0,
   "metadata": {
    "colab": {},
    "colab_type": "code",
    "hidden": true,
    "id": "EPvKZ4gc6ror"
   },
   "outputs": [],
   "source": [
    "import matplotlib.pyplot as plt\n",
    "import seaborn as sns\n",
    "import numpy as np\n",
    "from collections import Counter\n",
    "plt.style.use('ggplot')\n",
    "%matplotlib inline"
   ]
  },
  {
   "cell_type": "code",
   "execution_count": 0,
   "metadata": {
    "colab": {},
    "colab_type": "code",
    "hidden": true,
    "id": "We__9dYI679s"
   },
   "outputs": [],
   "source": [
    "keys, counts = np.unique(tags, return_counts=True)\n",
    "c = Counter(tag for _, tag in tagged_words)\n",
    "c.most_common()"
   ]
  },
  {
   "cell_type": "code",
   "execution_count": 0,
   "metadata": {
    "colab": {
     "base_uri": "https://localhost:8080/",
     "height": 394
    },
    "colab_type": "code",
    "hidden": true,
    "id": "maZbaLMd7hWL",
    "outputId": "5ca88e16-5924-4b6f-f61a-8951bb63fe94"
   },
   "outputs": [
    {
     "data": {
      "text/plain": [
       "<BarContainer object of 24 artists>"
      ]
     },
     "execution_count": 64,
     "metadata": {
      "tags": []
     },
     "output_type": "execute_result"
    },
    {
     "data": {
      "image/png": "[encoded data removed]",
      "text/plain": [
       "<Figure size 1080x432 with 1 Axes>"
      ]
     },
     "metadata": {
      "tags": []
     },
     "output_type": "display_data"
    }
   ],
   "source": [
    "tags, counts = zip(*c.most_common())\n",
    "plt.figure(figsize=(15, 6))\n",
    "plt.bar(range(len(tags)), counts, tick_label=tags)"
   ]
  },
  {
   "cell_type": "code",
   "execution_count": 19,
   "metadata": {
    "colab": {
     "base_uri": "https://localhost:8080/",
     "height": 353
    },
    "colab_type": "code",
    "hidden": true,
    "id": "cocb8YHC8TXl",
    "outputId": "ce9d2e2e-3c44-4238-f0b9-54430837521e"
   },
   "outputs": [
    {
     "data": {
      "text/plain": [
       "[(('FW', 'FW'), 5.516936),\n",
       " (('NNP', 'NNP'), 5.152914),\n",
       " (('NN', 'NN'), 3.269478),\n",
       " (('CD', 'NND'), 3.211954),\n",
       " (('NND', 'NN'), 2.897334),\n",
       " (('FW', 'X'), 2.748798),\n",
       " (('NND', 'NND'), 2.703739),\n",
       " (('NN', 'JJ'), 2.642689),\n",
       " (('VB', 'NN'), 2.511993),\n",
       " (('CD', 'NN'), 2.49331),\n",
       " (('MD', 'VB'), 2.442513),\n",
       " (('IN', 'NN'), 2.358871),\n",
       " (('DT', 'NN'), 2.053309),\n",
       " (('NN', 'FW'), 2.036776),\n",
       " (('SC', 'NN'), 1.907815),\n",
       " (('NN', 'X'), 1.887867),\n",
       " (('RB', 'JJ'), 1.880881),\n",
       " (('X', 'X'), 1.79022),\n",
       " (('SC', 'VB'), 1.782318),\n",
       " (('PRP', 'VB'), 1.740089)]"
      ]
     },
     "execution_count": 19,
     "metadata": {},
     "output_type": "execute_result"
    }
   ],
   "source": [
    "Counter(crf.transition_features_).most_common(20)"
   ]
  },
  {
   "cell_type": "code",
   "execution_count": 20,
   "metadata": {
    "colab": {
     "base_uri": "https://localhost:8080/",
     "height": 353
    },
    "colab_type": "code",
    "hidden": true,
    "id": "fIP2A6aaEuDW",
    "outputId": "8f44b6bd-41e1-44fa-c1c2-752340078be5"
   },
   "outputs": [
    {
     "data": {
      "text/plain": [
       "[(('NEG', 'PRP'), -1.375597),\n",
       " (('CC', 'OD'), -1.402652),\n",
       " (('NEG', 'NNP'), -1.42966),\n",
       " (('OD', 'RB'), -1.469423),\n",
       " (('CD', 'NEG'), -1.474596),\n",
       " (('NEG', 'CC'), -1.502176),\n",
       " (('RB', 'CC'), -1.524955),\n",
       " (('IN', 'NEG'), -1.570749),\n",
       " (('MD', 'PR'), -1.611159),\n",
       " (('PRP', 'PRP'), -1.624314),\n",
       " (('PRP', 'WH'), -1.662496),\n",
       " (('NNP', 'WH'), -1.687422),\n",
       " (('WH', 'IN'), -1.778916),\n",
       " (('NEG', 'RP'), -1.871366),\n",
       " (('WH', 'MD'), -1.991228),\n",
       " (('SC', 'OD'), -2.077336),\n",
       " (('IN', 'IN'), -2.115241),\n",
       " (('MD', 'SC'), -2.20288),\n",
       " (('IN', 'CC'), -2.649923),\n",
       " (('IN', 'MD'), -2.992268)]"
      ]
     },
     "execution_count": 20,
     "metadata": {},
     "output_type": "execute_result"
    }
   ],
   "source": [
    "Counter(crf.transition_features_).most_common()[-20:]"
   ]
  },
  {
   "cell_type": "code",
   "execution_count": 23,
   "metadata": {
    "colab": {
     "base_uri": "https://localhost:8080/",
     "height": 353
    },
    "colab_type": "code",
    "hidden": true,
    "id": "enZoYEgnE0xn",
    "outputId": "8f3a9274-e8fd-40ee-b5d2-260d7aa3bc58"
   },
   "outputs": [
    {
     "data": {
      "text/plain": [
       "[(('suffix_4:mnya', 'SC'), 7.166967),\n",
       " (('prefix_4:bers', 'IN'), 6.606277),\n",
       " (('suffix_4:mang', 'RB'), 6.503894),\n",
       " (('suffix_4:gkah', 'NN'), 6.097586),\n",
       " (('prefix_3:ber', 'VB'), 5.976196),\n",
       " (('is_first_capital', 'NNP'), 5.950854),\n",
       " (('suffix_4:rsen', 'CD'), 5.744871),\n",
       " (('is_complete_capital', 'Z'), 5.160597),\n",
       " (('prefix_2:di', 'VB'), 5.121556),\n",
       " (('prefix_4:berb', 'CD'), 4.999486),\n",
       " (('suffix_4:rsih', 'JJ'), 4.891152),\n",
       " (('prefix_4:akan', 'MD'), 4.778009),\n",
       " (('prefix_4:menj', 'IN'), 4.762523),\n",
       " (('suffix_4:adak', 'RB'), 4.742228),\n",
       " (('suffix_4:hkan', 'RB'), 4.721474),\n",
       " (('suffix_4:urut', 'IN'), 4.675095),\n",
       " (('suffix_4:pada', 'IN'), 4.670698),\n",
       " (('prefix_4:sama', 'JJ'), 4.653576),\n",
       " (('suffix_4:enai', 'IN'), 4.634499),\n",
       " (('suffix_4:agai', 'IN'), 4.622229),\n",
       " (('prefix_4:utan', 'NN'), 4.606658),\n",
       " (('prefix_4:puny', 'VB'), 4.600435),\n",
       " (('prefix_4:ters', 'PR'), 4.562902),\n",
       " (('prefix_4:dana', 'NN'), 4.52665),\n",
       " (('suffix_4:dian', 'CC'), 4.473657),\n",
       " (('suffix_4:sung', 'RB'), 4.470662),\n",
       " (('suffix_4:anya', 'CD'), 4.412534),\n",
       " (('prefix_4:adan', 'NN'), 4.399344),\n",
       " (('next_word:astronot', 'NNP'), 4.392386),\n",
       " (('prev_word:angkatan laut', 'NNP'), 4.389894),\n",
       " (('prefix_4:kura', 'RB'), 4.37697),\n",
       " (('suffix_4:esar', 'JJ'), 4.375122),\n",
       " (('prefix_4:perl', 'JJ'), 4.291465),\n",
       " (('suffix_4:tapi', 'CC'), 4.264509),\n",
       " (('suffix_4:kian', 'PR'), 4.242826),\n",
       " (('prefix_3:Ber', 'VB'), 4.237446),\n",
       " (('prefix_4:beri', 'NN'), 4.222183),\n",
       " (('prefix_4:seor', 'NND'), 4.217295),\n",
       " (('prefix_4:pent', 'JJ'), 4.195644),\n",
       " (('next_word:tanggal', 'NNP'), 4.1797),\n",
       " (('prefix_3:seo', 'NND'), 4.173014),\n",
       " (('suffix_4:gian', 'CD'), 4.153337),\n",
       " (('suffix_4:mana', 'SC'), 4.150962),\n",
       " (('prefix_3:sed', 'MD'), 4.142002),\n",
       " (('suffix_4:mana', 'WH'), 4.128957),\n",
       " (('prefix_4:patu', 'VB'), 4.128898),\n",
       " (('prefix_4:anta', 'IN'), 4.11987),\n",
       " (('suffix_4:olar', 'NN'), 4.117709),\n",
       " (('next_word:pelarian', 'NN'), 4.078376),\n",
       " (('prefix_4:seca', 'IN'), 4.057556),\n",
       " (('prefix_4:beke', 'VB'), 4.054684),\n",
       " (('next_word:George', 'NNP'), 4.027612),\n",
       " (('prefix_4:bany', 'CD'), 4.024153),\n",
       " (('prefix_4:mint', 'VB'), 4.021557),\n",
       " (('prev_word:Rasul', 'NNP'), 4.017906),\n",
       " (('suffix_4:rkat', 'SC'), 4.017389),\n",
       " (('suffix_4:ster', 'NN'), 3.974969),\n",
       " (('prefix_4:bahk', 'RB'), 3.943449),\n",
       " (('suffix_4:bali', 'VB'), 3.931515),\n",
       " (('prev_word:pergaulan', 'NN'), 3.929601),\n",
       " (('prev_word:14.000', 'NND'), 3.905227),\n",
       " (('prefix_1:1', 'CD'), 3.905072),\n",
       " (('prev_word:diulang', 'MD'), 3.903516),\n",
       " (('prefix_4:lalu', 'CC'), 3.886344),\n",
       " (('prefix_3:lal', 'CC'), 3.88532),\n",
       " (('prefix_4:sang', 'RB'), 3.866732),\n",
       " (('suffix_4:suai', 'JJ'), 3.854397),\n",
       " (('suffix_3:uai', 'JJ'), 3.848341),\n",
       " (('prefix_4:sete', 'SC'), 3.84336),\n",
       " (('suffix_4:para', 'DT'), 3.840374),\n",
       " (('prefix_3:mem', 'VB'), 3.838595),\n",
       " (('suffix_4:nama', 'NN'), 3.83521),\n",
       " (('suffix_4:unya', 'JJ'), 3.81366),\n",
       " (('prev_word:babak belur', 'SC'), 3.811402),\n",
       " (('suffix_4:jadi', 'VB'), 3.807704),\n",
       " (('suffix_4:tama', 'OD'), 3.806447),\n",
       " (('prev_word:Pendek', 'NN'), 3.802567),\n",
       " (('prefix_4:miny', 'NN'), 3.785447),\n",
       " (('prefix_4:ke d', 'RB'), 3.764712),\n",
       " (('suffix_4:nkan', 'CC'), 3.753991),\n",
       " (('suffix_4:enuh', 'JJ'), 3.753297),\n",
       " (('prev_word:sandera', 'MD'), 3.741171),\n",
       " (('next_word:sesuatu', 'X'), 3.730309),\n",
       " (('suffix_4:epat', 'JJ'), 3.730073),\n",
       " (('prefix_4:mema', 'RB'), 3.729277),\n",
       " (('suffix_4:imis', 'NN'), 3.726186),\n",
       " (('suffix_4:adap', 'IN'), 3.712397),\n",
       " (('next_word:net', 'NNP'), 3.70717),\n",
       " (('suffix_1:y', 'FW'), 3.683354),\n",
       " (('prefix_4:seta', 'NN'), 3.673096),\n",
       " (('suffix_4:ekat', 'JJ'), 3.66891),\n",
       " (('suffix_4:gkin', 'MD'), 3.66494),\n",
       " (('prev_word:departemen', 'NNP'), 3.661053),\n",
       " (('next_word:BPHTB', 'NNP'), 3.660833),\n",
       " (('prefix_3:men', 'VB'), 3.656834),\n",
       " (('prefix_4:lain', 'JJ'), 3.65316),\n",
       " (('suffix_4:ejak', 'IN'), 3.648523),\n",
       " (('prefix_4:teru', 'RB'), 3.629934),\n",
       " (('prefix_3:ter', 'VB'), 3.620211),\n",
       " (('next_word:berpisah', 'IN'), 3.615717)]"
      ]
     },
     "execution_count": 23,
     "metadata": {},
     "output_type": "execute_result"
    }
   ],
   "source": [
    "Counter(crf.state_features_).most_common(100)"
   ]
  },
  {
   "cell_type": "markdown",
   "metadata": {
    "colab": {},
    "colab_type": "code",
    "heading_collapsed": true,
    "id": "5fzrHZBfFUUR"
   },
   "source": [
    "## Reports"
   ]
  },
  {
   "cell_type": "markdown",
   "metadata": {
    "hidden": true
   },
   "source": [
    "### The Model"
   ]
  },
  {
   "cell_type": "markdown",
   "metadata": {
    "hidden": true
   },
   "source": [
    "A machine learning based model to perform POS tagging automatically is build using Conditional Random Field (CRF), which is type of probabilistic graphical model that can be used to model sequential data, such as labels of words in a sentence. CRF is commonly used method for application in many areas, including natural language processing, computer vision, and bioinformatics.\n",
    "In CRF, we will design a set of feature functions to extract features for each word in a sentence. During model training, CRF will try to determine the weights of different feature functions that will maximise the likelihood of the labels in the training data. In this project, we use an open source library, `sklearn-crfsuite`, as an implentation of CRF model.\n",
    "\n",
    "We generate feature function as dictionary format because `sklearn-crfsuite` accept input in dictionary format. feature design greatly affects the labeling accuracy. Below are some of features for a word in POS tagging:\n",
    "\n",
    "* The word position (first word or last word)\n",
    "* Whether the word first letter is capitalised\n",
    "* The prefix/suffix of word\n",
    "* The words surrounding, such as the previous and the next word\n",
    "* Whether word is in uppercase or lowercase\n",
    "* Whether word is a number, or contains digits\n",
    "* Whether word is or contains a special character (such as hyphen)"
   ]
  },
  {
   "cell_type": "markdown",
   "metadata": {
    "hidden": true
   },
   "source": [
    "### Evaluation"
   ]
  },
  {
   "cell_type": "code",
   "execution_count": null,
   "metadata": {
    "hidden": true
   },
   "outputs": [],
   "source": []
  },
  {
   "cell_type": "markdown",
   "metadata": {
    "hidden": true
   },
   "source": [
    "There's mislabel sentences, which is fw with lowercase instead of FW with uppercase"
   ]
  },
  {
   "cell_type": "markdown",
   "metadata": {
    "hidden": true
   },
   "source": [
    "to improve performance of the model, we could add grammar and lexicon of bahasa Indonesia to increase accuracy of tagging by remove ambiguity and relation among lexical item. \n",
    "\n",
    "Some more advanced techniques can be used for improving model accuracy. For example some attributes of neighbors can be added to features(if previous token is number probability of current token being noun is bigger, maybe :"
   ]
  },
  {
   "cell_type": "code",
   "execution_count": null,
   "metadata": {
    "hidden": true
   },
   "outputs": [],
   "source": []
  },
  {
   "cell_type": "code",
   "execution_count": null,
   "metadata": {
    "hidden": true
   },
   "outputs": [],
   "source": []
  },
  {
   "cell_type": "markdown",
   "metadata": {
    "heading_collapsed": true,
    "hidden": true
   },
   "source": [
    "#### Model Features"
   ]
  },
  {
   "cell_type": "code",
   "execution_count": 16,
   "metadata": {
    "hidden": true
   },
   "outputs": [
    {
     "ename": "NameError",
     "evalue": "name 'sentence' is not defined",
     "output_type": "error",
     "traceback": [
      "\u001b[1;31m---------------------------------------------------------------------------\u001b[0m",
      "\u001b[1;31mNameError\u001b[0m                                 Traceback (most recent call last)",
      "\u001b[1;32m<ipython-input-16-9221ca279630>\u001b[0m in \u001b[0;36m<module>\u001b[1;34m()\u001b[0m\n\u001b[0;32m      1\u001b[0m crf_initial_features = {\n\u001b[1;32m----> 2\u001b[1;33m                         \u001b[1;34m'is_first_capital'\u001b[0m\u001b[1;33m:\u001b[0m\u001b[0mint\u001b[0m\u001b[1;33m(\u001b[0m\u001b[0msentence\u001b[0m\u001b[1;33m[\u001b[0m\u001b[0mindex\u001b[0m\u001b[1;33m]\u001b[0m\u001b[1;33m[\u001b[0m\u001b[1;36m0\u001b[0m\u001b[1;33m]\u001b[0m\u001b[1;33m.\u001b[0m\u001b[0misupper\u001b[0m\u001b[1;33m(\u001b[0m\u001b[1;33m)\u001b[0m\u001b[1;33m)\u001b[0m\u001b[1;33m,\u001b[0m\u001b[1;33m\u001b[0m\u001b[0m\n\u001b[0m\u001b[0;32m      3\u001b[0m                         \u001b[1;34m'is_first_word'\u001b[0m\u001b[1;33m:\u001b[0m \u001b[0mint\u001b[0m\u001b[1;33m(\u001b[0m\u001b[0mindex\u001b[0m \u001b[1;33m==\u001b[0m \u001b[1;36m0\u001b[0m\u001b[1;33m)\u001b[0m\u001b[1;33m,\u001b[0m\u001b[1;33m\u001b[0m\u001b[0m\n\u001b[0;32m      4\u001b[0m                         \u001b[1;34m'is_last_word'\u001b[0m\u001b[1;33m:\u001b[0m\u001b[0mint\u001b[0m\u001b[1;33m(\u001b[0m\u001b[0mindex\u001b[0m \u001b[1;33m==\u001b[0m \u001b[0mlen\u001b[0m\u001b[1;33m(\u001b[0m\u001b[0msentence\u001b[0m\u001b[1;33m)\u001b[0m\u001b[1;33m-\u001b[0m\u001b[1;36m1\u001b[0m\u001b[1;33m)\u001b[0m\u001b[1;33m,\u001b[0m\u001b[1;33m\u001b[0m\u001b[0m\n\u001b[0;32m      5\u001b[0m                         \u001b[1;34m'is_complete_capital'\u001b[0m\u001b[1;33m:\u001b[0m \u001b[0mint\u001b[0m\u001b[1;33m(\u001b[0m\u001b[0msentence\u001b[0m\u001b[1;33m[\u001b[0m\u001b[0mindex\u001b[0m\u001b[1;33m]\u001b[0m\u001b[1;33m.\u001b[0m\u001b[0mupper\u001b[0m\u001b[1;33m(\u001b[0m\u001b[1;33m)\u001b[0m \u001b[1;33m==\u001b[0m \u001b[0msentence\u001b[0m\u001b[1;33m[\u001b[0m\u001b[0mindex\u001b[0m\u001b[1;33m]\u001b[0m\u001b[1;33m)\u001b[0m\u001b[1;33m,\u001b[0m\u001b[1;33m\u001b[0m\u001b[0m\n",
      "\u001b[1;31mNameError\u001b[0m: name 'sentence' is not defined"
     ]
    }
   ],
   "source": [
    "crf_initial_features = {\n",
    "                        'is_first_capital':int(sentence[index][0].isupper()),\n",
    "                        'is_first_word': int(index == 0),\n",
    "                        'is_last_word':int(index == len(sentence)-1),\n",
    "                        'is_complete_capital': int(sentence[index].upper() == sentence[index]),\n",
    "                        'prev_word':'' if index == 0 else sentence[index-1],\n",
    "                        'next_word':'' if index == len(sentence)-1 else sentence[index+1],\n",
    "                        'is_numeric':int(sentence[index].isdigit()),\n",
    "                        'is_alphanumeric': int(bool((re.match('^(?=.*[0-9]$)(?=.*[a-zA-Z])', sentence[index])))),\n",
    "                        'prefix_1':sentence[index][0],\n",
    "                        'prefix_2': sentence[index][:2],\n",
    "                        'prefix_3':sentence[index][:3],\n",
    "                        'prefix_4':sentence[index][:4],\n",
    "                        'suffix_1':sentence[index][-1],\n",
    "                        'suffix_2':sentence[index][-2:],\n",
    "                        'suffix_3':sentence[index][-3:],\n",
    "                        'suffix_4':sentence[index][-4:],\n",
    "                        'word_has_hyphen': 1 if '-' in sentence[index] else 0 \n",
    "                         }\n",
    "\n",
    "crf_without_suffix_features = {\n",
    "                        'is_first_capital':int(sentence[index][0].isupper()),\n",
    "                        'is_first_word': int(index == 0),\n",
    "                        'is_last_word':int(index == len(sentence)-1),\n",
    "                        'is_complete_capital': int(sentence[index].upper() == sentence[index]),\n",
    "                        'prev_word':'' if index == 0 else sentence[index-1],\n",
    "                        'next_word':'' if index == len(sentence)-1 else sentence[index+1],\n",
    "                        'is_numeric':int(sentence[index].isdigit()),\n",
    "                        'is_alphanumeric': int(bool((re.match('^(?=.*[0-9]$)(?=.*[a-zA-Z])', sentence[index])))),\n",
    "                        'prefix_1':sentence[index][0],\n",
    "                        'prefix_2': sentence[index][:2],\n",
    "                        'prefix_3':sentence[index][:3],\n",
    "                        'prefix_4':sentence[index][:4],\n",
    "                        'word_has_hyphen': 1 if '-' in sentence[index] else 0 \n",
    "                         }\n",
    "\n",
    "crf_without_prefix_features = {\n",
    "                        'is_first_capital':int(sentence[index][0].isupper()),\n",
    "                        'is_first_word': int(index == 0),\n",
    "                        'is_last_word':int(index == len(sentence)-1),\n",
    "                        'is_complete_capital': int(sentence[index].upper() == sentence[index]),\n",
    "                        'prev_word':'' if index == 0 else sentence[index-1],\n",
    "                        'next_word':'' if index == len(sentence)-1 else sentence[index+1],\n",
    "                        'is_numeric':int(sentence[index].isdigit()),\n",
    "                        'is_alphanumeric': int(bool((re.match('^(?=.*[0-9]$)(?=.*[a-zA-Z])', sentence[index])))),\n",
    "                        'suffix_1':sentence[index][-1],\n",
    "                        'suffix_2':sentence[index][-2:],\n",
    "                        'suffix_3':sentence[index][-3:],\n",
    "                        'suffix_4':sentence[index][-4:],\n",
    "                        'word_has_hyphen': 1 if '-' in sentence[index] else 0 \n",
    "                         }\n",
    "\n",
    "crf_without_anyfix_features = {\n",
    "                        'is_first_capital':int(sentence[index][0].isupper()),\n",
    "                        'is_first_word': int(index == 0),\n",
    "                        'is_last_word':int(index == len(sentence)-1),\n",
    "                        'is_complete_capital': int(sentence[index].upper() == sentence[index]),\n",
    "                        'prev_word':'' if index == 0 else sentence[index-1],\n",
    "                        'next_word':'' if index == len(sentence)-1 else sentence[index+1],\n",
    "                        'is_numeric':int(sentence[index].isdigit()),\n",
    "                        'is_alphanumeric': int(bool((re.match('^(?=.*[0-9]$)(?=.*[a-zA-Z])', sentence[index])))),\n",
    "                        'word_has_hyphen': 1 if '-' in sentence[index] else 0 \n",
    "                         }"
   ]
  },
  {
   "cell_type": "markdown",
   "metadata": {
    "colab_type": "text",
    "heading_collapsed": true,
    "hidden": true,
    "id": "h2TMWF4-F3NV"
   },
   "source": [
    "#### Old Feature Ablation"
   ]
  },
  {
   "cell_type": "code",
   "execution_count": 46,
   "metadata": {
    "colab": {},
    "colab_type": "code",
    "hidden": true,
    "id": "ceXl0GPaF5kN"
   },
   "outputs": [],
   "source": [
    "def feature_ablation(d, entriesToRemove = None):\n",
    "    for k in entriesToRemove:\n",
    "        d.pop(k, None)\n",
    "    return d\n",
    "      \n",
    "def features(sentence, index, entriesToRemove = None):\n",
    "    ### sentence is of the form [w1,w2,w3,..], index is the position of the word in the sentence\n",
    "    ### and entriestoRemove type is tuple\n",
    "    d = {\n",
    "        'is_first_capital':int(sentence[index][0].isupper()),\n",
    "        'is_first_word': int(index == 0),\n",
    "        'is_last_word':int(index == len(sentence)-1),\n",
    "        'is_complete_capital': int(sentence[index].upper() == sentence[index]),\n",
    "        'prev_word':'' if index == 0 else sentence[index-1],\n",
    "        'next_word':'' if index == len(sentence)-1 else sentence[index+1],\n",
    "        'is_numeric':int(sentence[index].isdigit()),\n",
    "        'is_alphanumeric': int(bool((re.match('^(?=.*[0-9]$)(?=.*[a-zA-Z])', sentence[index])))),\n",
    "        'prefix_1':sentence[index][0],\n",
    "        'prefix_2': sentence[index][:2],\n",
    "        'prefix_3':sentence[index][:3],\n",
    "        'prefix_4':sentence[index][:4],\n",
    "        'suffix_1':sentence[index][-1],\n",
    "        'suffix_2':sentence[index][-2:],\n",
    "        'suffix_3':sentence[index][-3:],\n",
    "        'suffix_4':sentence[index][-4:],\n",
    "        'word_has_hyphen': 1 if '-' in sentence[index] else 0 \n",
    "         }\n",
    "    \n",
    "    if not entriesToRemove:\n",
    "        return d\n",
    "    else:\n",
    "        return feature_ablation(d, entriesToRemove)\n",
    "                \n",
    "def untag(sentence):\n",
    "      return [word for word, tag in sentence]\n",
    "\n",
    "\n",
    "def prepareData(tagged_sentences, entriesToRemove):\n",
    "    X, y = [], []\n",
    "    for sentences in tagged_sentences:\n",
    "        X.append([features(untag(sentences), index, entriesToRemove) for index in range(len(sentences))])\n",
    "        y.append([tag for word, tag in sentences])\n",
    "    return X, y\n",
    "\n",
    "suffix_removed = tuple(['suffix_1', 'suffix_2', 'suffix_3', 'suffix_4'])\n",
    "prefix_removed = tuple(['prefix_1', 'prefix_2', 'prefix_3', 'prefix_4'])\n",
    "anyfix_removed = tuple(['prefix_1', 'prefix_2', 'prefix_3', 'prefix_4', 'suffix_1', 'suffix_2', 'suffix_3', 'suffix_4'])\n",
    "X_train, y_train = prepareData(train_set, anyfix_removed)\n",
    "X_test, y_test = prepareData(test_set, anyfix_removed)"
   ]
  },
  {
   "cell_type": "code",
   "execution_count": null,
   "metadata": {
    "hidden": true
   },
   "outputs": [],
   "source": []
  }
 ],
 "metadata": {
  "accelerator": "GPU",
  "colab": {
   "collapsed_sections": [
    "6zZYWT_m6uNg"
   ],
   "name": "kata ai pos tagging.ipynb",
   "provenance": [],
   "version": "0.3.2"
  },
  "kernelspec": {
   "display_name": "Python 3",
   "language": "python",
   "name": "python3"
  },
  "language_info": {
   "codemirror_mode": {
    "name": "ipython",
    "version": 3
   },
   "file_extension": ".py",
   "mimetype": "text/x-python",
   "name": "python",
   "nbconvert_exporter": "python",
   "pygments_lexer": "ipython3",
   "version": "3.6.4"
  }
 },
 "nbformat": 4,
 "nbformat_minor": 1
}
