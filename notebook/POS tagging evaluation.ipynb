{
 "cells": [
  {
   "cell_type": "markdown",
   "metadata": {},
   "source": [
    "## Import Library"
   ]
  },
  {
   "cell_type": "code",
   "execution_count": 10,
   "metadata": {
    "colab": {},
    "colab_type": "code",
    "id": "CbaZ4IcvSE0A"
   },
   "outputs": [],
   "source": [
    "import re\n",
    "from sklearn.model_selection import train_test_split\n",
    "from sklearn.metrics import make_scorer\n",
    "from sklearn.model_selection import RandomizedSearchCV\n",
    "from sklearn.model_selection import cross_validate\n",
    "from sklearn.metrics import classification_report\n",
    "\n",
    "from sklearn_crfsuite import CRF\n",
    "from sklearn_crfsuite import metrics\n",
    "from sklearn_crfsuite import scorers\n",
    "import scipy\n",
    "from pathlib import Path\n",
    "\n",
    "from joblib import dump, load\n",
    "import pandas as pd\n",
    "\n",
    "from utils import read_data\n",
    "from visualization import plot_confusion_matrix"
   ]
  },
  {
   "cell_type": "code",
   "execution_count": 11,
   "metadata": {},
   "outputs": [],
   "source": [
    "import sys\n",
    "\n",
    "project_root = Path.cwd().parents[0]\n",
    "data_path = project_root / 'data'\n",
    "model_path = project_root / 'model'\n",
    "\n",
    "src_dir = project_root / 'src'\n",
    "\n",
    "sys.path.append(str(src_dir))"
   ]
  },
  {
   "cell_type": "code",
   "execution_count": 12,
   "metadata": {},
   "outputs": [
    {
     "name": "stdout",
     "output_type": "stream",
     "text": [
      "The autoreload extension is already loaded. To reload it, use:\n",
      "  %reload_ext autoreload\n"
     ]
    }
   ],
   "source": [
    "%load_ext autoreload\n",
    "%autoreload 2"
   ]
  },
  {
   "cell_type": "code",
   "execution_count": 13,
   "metadata": {
    "colab": {},
    "colab_type": "code",
    "id": "v9mPAnb34Zt3"
   },
   "outputs": [],
   "source": [
    "corpus_path = data_path / 'Indonesian_Manually_Tagged_Corpus.tsv'\n",
    "tagged_sentences = read_data(corpus_path)"
   ]
  },
  {
   "cell_type": "code",
   "execution_count": 14,
   "metadata": {
    "colab": {
     "base_uri": "https://localhost:8080/",
     "height": 88
    },
    "colab_type": "code",
    "id": "gs5KRjbH4170",
    "outputId": "5e9d8a81-6457-4a20-fcac-3f4c363791d1"
   },
   "outputs": [
    {
     "name": "stdout",
     "output_type": "stream",
     "text": [
      "Number of Tagged Sentences  10030\n",
      "Total Number of Tagged words 256622\n",
      "Vocabulary of the Corpus 18287\n",
      "Number of Tags in the Corpus  24\n"
     ]
    }
   ],
   "source": [
    "print(\"Number of Tagged Sentences \", len(tagged_sentences))\n",
    "tagged_words = [tup for sent in tagged_sentences for tup in sent]\n",
    "print(\"Total Number of Tagged words\", len(tagged_words))\n",
    "vocab = set([word for word, tag in tagged_words])\n",
    "print(\"Vocabulary of the Corpus\", len(vocab))\n",
    "tags = set([tag for word, tag in tagged_words])\n",
    "print(\"Number of Tags in the Corpus \", len(tags))"
   ]
  },
  {
   "cell_type": "code",
   "execution_count": 15,
   "metadata": {},
   "outputs": [],
   "source": [
    "from collections import Counter \n",
    "\n",
    "tag_counter = Counter([tag for word, tag in tagged_words])"
   ]
  },
  {
   "cell_type": "markdown",
   "metadata": {},
   "source": [
    "### Performance Dataframe"
   ]
  },
  {
   "cell_type": "code",
   "execution_count": 19,
   "metadata": {},
   "outputs": [
    {
     "data": {
      "text/html": [
       "<div>\n",
       "<style scoped>\n",
       "    .dataframe tbody tr th:only-of-type {\n",
       "        vertical-align: middle;\n",
       "    }\n",
       "\n",
       "    .dataframe tbody tr th {\n",
       "        vertical-align: top;\n",
       "    }\n",
       "\n",
       "    .dataframe thead th {\n",
       "        text-align: right;\n",
       "    }\n",
       "</style>\n",
       "<table border=\"1\" class=\"dataframe\">\n",
       "  <thead>\n",
       "    <tr style=\"text-align: right;\">\n",
       "      <th></th>\n",
       "      <th>mean</th>\n",
       "      <th>std</th>\n",
       "    </tr>\n",
       "    <tr>\n",
       "      <th>model_type</th>\n",
       "      <th></th>\n",
       "      <th></th>\n",
       "    </tr>\n",
       "  </thead>\n",
       "  <tbody>\n",
       "    <tr>\n",
       "      <th>crf-baseline</th>\n",
       "      <td>71.726102</td>\n",
       "      <td>0.251751</td>\n",
       "    </tr>\n",
       "    <tr>\n",
       "      <th>crf-with-allfix</th>\n",
       "      <td>97.304530</td>\n",
       "      <td>0.093265</td>\n",
       "    </tr>\n",
       "    <tr>\n",
       "      <th>crf-with-prefix</th>\n",
       "      <td>95.384298</td>\n",
       "      <td>0.041855</td>\n",
       "    </tr>\n",
       "    <tr>\n",
       "      <th>crf-with-suffix</th>\n",
       "      <td>94.197502</td>\n",
       "      <td>0.091220</td>\n",
       "    </tr>\n",
       "  </tbody>\n",
       "</table>\n",
       "</div>"
      ],
      "text/plain": [
       "                      mean       std\n",
       "model_type                          \n",
       "crf-baseline     71.726102  0.251751\n",
       "crf-with-allfix  97.304530  0.093265\n",
       "crf-with-prefix  95.384298  0.041855\n",
       "crf-with-suffix  94.197502  0.091220"
      ]
     },
     "execution_count": 19,
     "metadata": {},
     "output_type": "execute_result"
    }
   ],
   "source": [
    "import seaborn as sns\n",
    "import numpy as np\n",
    "\n",
    "performance_dfs = pd.read_csv(data_path / 'model performance.csv')\n",
    "data = performance_dfs.query(\"tags_overall == 'weighted avg'\")\n",
    "model_avg_f1 = data.groupby('model_type')['f1-score'].agg([np.mean, np.std]) * 100\n",
    "model_avg_f1"
   ]
  },
  {
   "cell_type": "markdown",
   "metadata": {},
   "source": [
    "### Best Model Classification Report and Confusion Matrix"
   ]
  },
  {
   "cell_type": "code",
   "execution_count": 20,
   "metadata": {},
   "outputs": [
    {
     "name": "stderr",
     "output_type": "stream",
     "text": [
      "C:\\Users\\ANTHONI\\Anaconda3\\lib\\site-packages\\sklearn\\metrics\\classification.py:1143: UndefinedMetricWarning: Precision and F-score are ill-defined and being set to 0.0 in labels with no predicted samples.\n",
      "  'precision', 'predicted', average, warn_for)\n",
      "C:\\Users\\ANTHONI\\Anaconda3\\lib\\site-packages\\sklearn\\metrics\\classification.py:1145: UndefinedMetricWarning: Recall and F-score are ill-defined and being set to 0.0 in labels with no true samples.\n",
      "  'recall', 'true', average, warn_for)\n"
     ]
    },
    {
     "name": "stdout",
     "output_type": "stream",
     "text": [
      "              precision    recall  f1-score   support\n",
      "\n",
      "          IN      0.963     0.968     0.965      4096\n",
      "          NN      0.970     0.974     0.972     12316\n",
      "          JJ      0.949     0.948     0.948      1972\n",
      "          PR      0.997     0.995     0.996      1111\n",
      "           Z      0.998     0.998     0.998      5211\n",
      "          CD      0.995     0.993     0.994      3591\n",
      "         SYM      1.000     0.991     0.995       428\n",
      "          VB      0.990     0.988     0.989      6371\n",
      "          CC      0.988     0.979     0.983      1552\n",
      "          RB      0.977     0.960     0.968      1007\n",
      "          MD      0.993     0.985     0.989      1054\n",
      "         PRP      0.997     0.994     0.996      1549\n",
      "         NNP      0.951     0.964     0.958      6661\n",
      "          SC      0.949     0.957     0.953      2601\n",
      "         NND      0.939     0.906     0.922       255\n",
      "          FW      0.916     0.810     0.860       458\n",
      "         NEG      0.993     0.997     0.995       287\n",
      "           X      0.800     0.434     0.562        83\n",
      "          OD      0.945     0.883     0.913       137\n",
      "          DT      0.972     0.972     0.972        72\n",
      "          RP      1.000     0.933     0.966        30\n",
      "          WH      0.956     0.878     0.915        49\n",
      "          UH      0.667     1.000     0.800         2\n",
      "          fw      0.000     0.000     0.000         0\n",
      "\n",
      "   micro avg      0.974     0.974     0.974     50893\n",
      "   macro avg      0.913     0.896     0.900     50893\n",
      "weighted avg      0.974     0.974     0.974     50893\n",
      "\n"
     ]
    }
   ],
   "source": [
    "from model import fit_and_dump, prepare_train_test\n",
    "\n",
    "path = model_path / 'crf-with-allfix-fold01-seed42.joblib'\n",
    "crf = load(path)\n",
    "seed = int(str(path).split('.')[0][-2:])\n",
    "X_train, y_train, X_test, y_test = prepare_train_test(tagged_sentences, seed, path)\n",
    "train_set, test_set = train_test_split(tagged_sentences, test_size=0.2, random_state=seed)\n",
    "\n",
    "y_pred = crf.predict(X_test)\n",
    "print(metrics.flat_classification_report(y_test, y_pred, labels=crf.classes_, digits=3))"
   ]
  },
  {
   "cell_type": "code",
   "execution_count": 21,
   "metadata": {},
   "outputs": [
    {
     "name": "stderr",
     "output_type": "stream",
     "text": [
      "C:\\Users\\ANTHONI\\Documents\\kataai\\src\\visualization.py:20: RuntimeWarning: invalid value encountered in true_divide\n",
      "  matrix = matrix.astype('float') / matrix.sum(axis=1)[:, np.newaxis]\n"
     ]
    },
    {
     "data": {
      "image/png": "[encoded data removed]",
      "text/plain": [
       "<matplotlib.figure.Figure at 0x32360e7cc0>"
      ]
     },
     "metadata": {},
     "output_type": "display_data"
    }
   ],
   "source": [
    "from visualization import plot_confusion_matrix\n",
    "\n",
    "plot_confusion_matrix(y_test, y_pred, crf.classes_);"
   ]
  },
  {
   "cell_type": "markdown",
   "metadata": {},
   "source": [
    "### Error analysis initial based on confusion matrix"
   ]
  },
  {
   "cell_type": "code",
   "execution_count": 11,
   "metadata": {},
   "outputs": [],
   "source": [
    "# get sentence index for every tag\n",
    "d = []\n",
    "for index, sentence in enumerate(y_test):\n",
    "    for tag in sentence:\n",
    "        d.append((index, tag))"
   ]
  },
  {
   "cell_type": "code",
   "execution_count": 150,
   "metadata": {
    "scrolled": false
   },
   "outputs": [],
   "source": [
    "import pandas as pd\n",
    "from utils import flatten\n",
    "\n",
    "\n",
    "df = pd.DataFrame(d, columns=['sentence_index', 'y_test'])\n",
    "df['y_pred'] = flatten(y_pred)\n",
    "df['word'] = [word for sentence in test_set for word, _ in sentence]\n",
    "\n",
    "# df[(df.y_test == 'X') & (df.y_pred == 'NN')]\n",
    "# df[(df.y_test == 'X')]\n",
    "# df[(df.y_test == 'WH') & (df.y_pred == 'SC')]\n",
    "# df[(df.y_test == 'WH')].drop_duplicates(subset=['y_test', 'y_pred', 'word'])\n",
    "# test_set[695]"
   ]
  },
  {
   "cell_type": "code",
   "execution_count": 73,
   "metadata": {
    "scrolled": true
   },
   "outputs": [
    {
     "data": {
      "text/html": [
       "<div>\n",
       "<style scoped>\n",
       "    .dataframe tbody tr th:only-of-type {\n",
       "        vertical-align: middle;\n",
       "    }\n",
       "\n",
       "    .dataframe tbody tr th {\n",
       "        vertical-align: top;\n",
       "    }\n",
       "\n",
       "    .dataframe thead th {\n",
       "        text-align: right;\n",
       "    }\n",
       "</style>\n",
       "<table border=\"1\" class=\"dataframe\">\n",
       "  <thead>\n",
       "    <tr style=\"text-align: right;\">\n",
       "      <th></th>\n",
       "      <th>sentence_index</th>\n",
       "      <th>y_test</th>\n",
       "      <th>y_pred</th>\n",
       "      <th>word</th>\n",
       "    </tr>\n",
       "  </thead>\n",
       "  <tbody>\n",
       "    <tr>\n",
       "      <th>15943</th>\n",
       "      <td>627</td>\n",
       "      <td>IN</td>\n",
       "      <td>IN</td>\n",
       "      <td>antar</td>\n",
       "    </tr>\n",
       "    <tr>\n",
       "      <th>46102</th>\n",
       "      <td>1816</td>\n",
       "      <td>IN</td>\n",
       "      <td>IN</td>\n",
       "      <td>antar</td>\n",
       "    </tr>\n",
       "  </tbody>\n",
       "</table>\n",
       "</div>"
      ],
      "text/plain": [
       "       sentence_index y_test y_pred   word\n",
       "15943             627     IN     IN  antar\n",
       "46102            1816     IN     IN  antar"
      ]
     },
     "execution_count": 73,
     "metadata": {},
     "output_type": "execute_result"
    }
   ],
   "source": [
    "df[df.word == 'antar']\n",
    "# test_set[627]"
   ]
  },
  {
   "cell_type": "code",
   "execution_count": 94,
   "metadata": {},
   "outputs": [],
   "source": [
    "from model import prepare_data"
   ]
  },
  {
   "cell_type": "code",
   "execution_count": 171,
   "metadata": {},
   "outputs": [],
   "source": [
    "from sklearn.metrics import confusion_matrix\n",
    "def error_analysis(error_set):\n",
    "    path = model_path / 'crf-with-allfix-fold01-seed42.joblib'\n",
    "    crf = load(path)\n",
    "    X_test, y_test = prepare_data(error_set, prefix=True, suffix=True)\n",
    "    y_pred = crf.predict(X_test)\n",
    "    words = [word for sent in error_set for word, _ in sent]\n",
    "    return pd.DataFrame({'words': words, 'true label': y_test[0], 'predict label': y_pred[0]})"
   ]
  },
  {
   "cell_type": "code",
   "execution_count": 172,
   "metadata": {},
   "outputs": [],
   "source": [
    "error_1 = [[('Nilai', 'NN'),\n",
    "  ('tukar', 'VB'),\n",
    "  ('rupiah', 'NN'),\n",
    "  ('terhadap', 'IN'),\n",
    "  ('dolar', 'NN'),\n",
    "  ('AS', 'NNP'),\n",
    "  ('di', 'IN'),\n",
    "  ('pasar', 'NN'),\n",
    "  ('spot', 'NNP'),\n",
    "  ('antarnegara', 'X'),\n",
    "  (',', 'Z'),\n",
    "  ('Senin', 'NNP'),\n",
    "  ('sore', 'NN'),\n",
    "  ('melemah', 'VB'),\n",
    "  ('lima', 'CD'),\n",
    "  ('poin', 'NN')]]"
   ]
  },
  {
   "cell_type": "code",
   "execution_count": 173,
   "metadata": {
    "scrolled": true
   },
   "outputs": [
    {
     "data": {
      "text/html": [
       "<div>\n",
       "<style scoped>\n",
       "    .dataframe tbody tr th:only-of-type {\n",
       "        vertical-align: middle;\n",
       "    }\n",
       "\n",
       "    .dataframe tbody tr th {\n",
       "        vertical-align: top;\n",
       "    }\n",
       "\n",
       "    .dataframe thead th {\n",
       "        text-align: right;\n",
       "    }\n",
       "</style>\n",
       "<table border=\"1\" class=\"dataframe\">\n",
       "  <thead>\n",
       "    <tr style=\"text-align: right;\">\n",
       "      <th></th>\n",
       "      <th>predict label</th>\n",
       "      <th>true label</th>\n",
       "      <th>words</th>\n",
       "    </tr>\n",
       "  </thead>\n",
       "  <tbody>\n",
       "    <tr>\n",
       "      <th>0</th>\n",
       "      <td>NN</td>\n",
       "      <td>NN</td>\n",
       "      <td>Nilai</td>\n",
       "    </tr>\n",
       "    <tr>\n",
       "      <th>1</th>\n",
       "      <td>VB</td>\n",
       "      <td>VB</td>\n",
       "      <td>tukar</td>\n",
       "    </tr>\n",
       "    <tr>\n",
       "      <th>2</th>\n",
       "      <td>NN</td>\n",
       "      <td>NN</td>\n",
       "      <td>rupiah</td>\n",
       "    </tr>\n",
       "    <tr>\n",
       "      <th>3</th>\n",
       "      <td>IN</td>\n",
       "      <td>IN</td>\n",
       "      <td>terhadap</td>\n",
       "    </tr>\n",
       "    <tr>\n",
       "      <th>4</th>\n",
       "      <td>NN</td>\n",
       "      <td>NN</td>\n",
       "      <td>dolar</td>\n",
       "    </tr>\n",
       "    <tr>\n",
       "      <th>5</th>\n",
       "      <td>NNP</td>\n",
       "      <td>NNP</td>\n",
       "      <td>AS</td>\n",
       "    </tr>\n",
       "    <tr>\n",
       "      <th>6</th>\n",
       "      <td>IN</td>\n",
       "      <td>IN</td>\n",
       "      <td>di</td>\n",
       "    </tr>\n",
       "    <tr>\n",
       "      <th>7</th>\n",
       "      <td>NN</td>\n",
       "      <td>NN</td>\n",
       "      <td>pasar</td>\n",
       "    </tr>\n",
       "    <tr>\n",
       "      <th>8</th>\n",
       "      <td>NNP</td>\n",
       "      <td>NNP</td>\n",
       "      <td>spot</td>\n",
       "    </tr>\n",
       "    <tr>\n",
       "      <th>9</th>\n",
       "      <td>NN</td>\n",
       "      <td>X</td>\n",
       "      <td>antarnegara</td>\n",
       "    </tr>\n",
       "    <tr>\n",
       "      <th>10</th>\n",
       "      <td>Z</td>\n",
       "      <td>Z</td>\n",
       "      <td>,</td>\n",
       "    </tr>\n",
       "    <tr>\n",
       "      <th>11</th>\n",
       "      <td>NNP</td>\n",
       "      <td>NNP</td>\n",
       "      <td>Senin</td>\n",
       "    </tr>\n",
       "    <tr>\n",
       "      <th>12</th>\n",
       "      <td>NN</td>\n",
       "      <td>NN</td>\n",
       "      <td>sore</td>\n",
       "    </tr>\n",
       "    <tr>\n",
       "      <th>13</th>\n",
       "      <td>VB</td>\n",
       "      <td>VB</td>\n",
       "      <td>melemah</td>\n",
       "    </tr>\n",
       "    <tr>\n",
       "      <th>14</th>\n",
       "      <td>CD</td>\n",
       "      <td>CD</td>\n",
       "      <td>lima</td>\n",
       "    </tr>\n",
       "    <tr>\n",
       "      <th>15</th>\n",
       "      <td>NN</td>\n",
       "      <td>NN</td>\n",
       "      <td>poin</td>\n",
       "    </tr>\n",
       "  </tbody>\n",
       "</table>\n",
       "</div>"
      ],
      "text/plain": [
       "   predict label true label        words\n",
       "0             NN         NN        Nilai\n",
       "1             VB         VB        tukar\n",
       "2             NN         NN       rupiah\n",
       "3             IN         IN     terhadap\n",
       "4             NN         NN        dolar\n",
       "5            NNP        NNP           AS\n",
       "6             IN         IN           di\n",
       "7             NN         NN        pasar\n",
       "8            NNP        NNP         spot\n",
       "9             NN          X  antarnegara\n",
       "10             Z          Z            ,\n",
       "11           NNP        NNP        Senin\n",
       "12            NN         NN         sore\n",
       "13            VB         VB      melemah\n",
       "14            CD         CD         lima\n",
       "15            NN         NN         poin"
      ]
     },
     "execution_count": 173,
     "metadata": {},
     "output_type": "execute_result"
    }
   ],
   "source": [
    "error_analysis(error_1)"
   ]
  },
  {
   "cell_type": "code",
   "execution_count": 46,
   "metadata": {
    "colab": {},
    "colab_type": "code",
    "id": "ceXl0GPaF5kN"
   },
   "outputs": [],
   "source": [
    "def feature_ablation(d, entriesToRemove = None):\n",
    "    for k in entriesToRemove:\n",
    "        d.pop(k, None)\n",
    "    return d\n",
    "      \n",
    "def features(sentence, index, entriesToRemove = None):\n",
    "    ### sentence is of the form [w1,w2,w3,..], index is the position of the word in the sentence\n",
    "    ### and entriestoRemove type is tuple\n",
    "    d = {\n",
    "        'is_first_capital':int(sentence[index][0].isupper()),\n",
    "        'is_first_word': int(index == 0),\n",
    "        'is_last_word':int(index == len(sentence)-1),\n",
    "        'is_complete_capital': int(sentence[index].upper() == sentence[index]),\n",
    "        'prev_word':'' if index == 0 else sentence[index-1],\n",
    "        'next_word':'' if index == len(sentence)-1 else sentence[index+1],\n",
    "        'is_numeric':int(sentence[index].isdigit()),\n",
    "        'is_alphanumeric': int(bool((re.match('^(?=.*[0-9]$)(?=.*[a-zA-Z])', sentence[index])))),\n",
    "        'prefix_1':sentence[index][0],\n",
    "        'prefix_2': sentence[index][:2],\n",
    "        'prefix_3':sentence[index][:3],\n",
    "        'prefix_4':sentence[index][:4],\n",
    "        'suffix_1':sentence[index][-1],\n",
    "        'suffix_2':sentence[index][-2:],\n",
    "        'suffix_3':sentence[index][-3:],\n",
    "        'suffix_4':sentence[index][-4:],\n",
    "        'word_has_hyphen': 1 if '-' in sentence[index] else 0 \n",
    "         }\n",
    "    \n",
    "    if not entriesToRemove:\n",
    "        return d\n",
    "    else:\n",
    "        return feature_ablation(d, entriesToRemove)\n",
    "                \n",
    "def untag(sentence):\n",
    "      return [word for word, tag in sentence]\n",
    "\n",
    "\n",
    "def prepareData(tagged_sentences, entriesToRemove):\n",
    "    X, y = [], []\n",
    "    for sentences in tagged_sentences:\n",
    "        X.append([features(untag(sentences), index, entriesToRemove) for index in range(len(sentences))])\n",
    "        y.append([tag for word, tag in sentences])\n",
    "    return X, y\n",
    "\n",
    "suffix_removed = tuple(['suffix_1', 'suffix_2', 'suffix_3', 'suffix_4'])\n",
    "prefix_removed = tuple(['prefix_1', 'prefix_2', 'prefix_3', 'prefix_4'])\n",
    "anyfix_removed = tuple(['prefix_1', 'prefix_2', 'prefix_3', 'prefix_4', 'suffix_1', 'suffix_2', 'suffix_3', 'suffix_4'])\n",
    "X_train, y_train = prepareData(train_set, anyfix_removed)\n",
    "X_test, y_test = prepareData(test_set, anyfix_removed)"
   ]
  },
  {
   "cell_type": "code",
   "execution_count": null,
   "metadata": {},
   "outputs": [],
   "source": []
  }
 ],
 "metadata": {
  "accelerator": "GPU",
  "colab": {
   "collapsed_sections": [
    "6zZYWT_m6uNg"
   ],
   "name": "kata ai pos tagging.ipynb",
   "provenance": [],
   "version": "0.3.2"
  },
  "kernelspec": {
   "display_name": "Python 3",
   "language": "python",
   "name": "python3"
  },
  "language_info": {
   "codemirror_mode": {
    "name": "ipython",
    "version": 3
   },
   "file_extension": ".py",
   "mimetype": "text/x-python",
   "name": "python",
   "nbconvert_exporter": "python",
   "pygments_lexer": "ipython3",
   "version": "3.6.4"
  }
 },
 "nbformat": 4,
 "nbformat_minor": 1
}
