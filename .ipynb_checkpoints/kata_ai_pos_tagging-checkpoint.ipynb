{
 "cells": [
  {
   "cell_type": "markdown",
   "metadata": {
    "colab_type": "text",
    "id": "2ePNqKxq36sm"
   },
   "source": [
    "* pertama buat cross validation buat modelnya\n",
    "* grid search optimal parameter\n",
    "* feature ablation dengan nambahin parameter baru ke function generate feature berupa feature mana yang mau dihilangkan dari dictionary\n",
    "* error analysis tapi belum tau"
   ]
  },
  {
   "cell_type": "code",
   "execution_count": 4,
   "metadata": {
    "colab": {},
    "colab_type": "code",
    "id": "CbaZ4IcvSE0A"
   },
   "outputs": [],
   "source": [
    "import re\n",
    "from sklearn.model_selection import train_test_split\n",
    "from sklearn.metrics import make_scorer\n",
    "from sklearn.model_selection import RandomizedSearchCV\n",
    "from sklearn.model_selection import cross_validate\n",
    "\n",
    "from sklearn_crfsuite import CRF\n",
    "from sklearn_crfsuite import metrics\n",
    "from sklearn_crfsuite import scorers\n",
    "import scipy\n",
    "from pathlib import Path\n"
   ]
  },
  {
   "cell_type": "code",
   "execution_count": 5,
   "metadata": {
    "colab": {},
    "colab_type": "code",
    "id": "e5vzm9sQQzX6"
   },
   "outputs": [],
   "source": [
    "def read_data(data_path):\n",
    "    data = open(data_path, 'r').read()\n",
    "    data = data.split('\\n\\n')\n",
    "    tagged_sentences = []\n",
    "\n",
    "    for sentence in data:\n",
    "        tagged_sentences.append(list(tuple(word_tag.split('\\t')) for word_tag in sentence.split('\\n')))\n",
    "    \n",
    "    return tagged_sentences"
   ]
  },
  {
   "cell_type": "code",
   "execution_count": 6,
   "metadata": {
    "colab": {},
    "colab_type": "code",
    "id": "v9mPAnb34Zt3"
   },
   "outputs": [],
   "source": [
    "data_path = \"data/Indonesian_Manually_Tagged_Corpus.tsv\"\n",
    "tagged_sentences = read_data(data_path)"
   ]
  },
  {
   "cell_type": "code",
   "execution_count": 7,
   "metadata": {
    "colab": {
     "base_uri": "https://localhost:8080/",
     "height": 88
    },
    "colab_type": "code",
    "id": "gs5KRjbH4170",
    "outputId": "5e9d8a81-6457-4a20-fcac-3f4c363791d1"
   },
   "outputs": [
    {
     "name": "stdout",
     "output_type": "stream",
     "text": [
      "Number of Tagged Sentences  10030\n",
      "Total Number of Tagged words 256622\n",
      "Vocabulary of the Corpus 18287\n",
      "Number of Tags in the Corpus  24\n"
     ]
    }
   ],
   "source": [
    "print(\"Number of Tagged Sentences \", len(tagged_sentences))\n",
    "tagged_words = [tup for sent in tagged_sentences for tup in sent]\n",
    "print(\"Total Number of Tagged words\", len(tagged_words))\n",
    "vocab = set([word for word, tag in tagged_words])\n",
    "print(\"Vocabulary of the Corpus\", len(vocab))\n",
    "tags = set([tag for word, tag in tagged_words])\n",
    "print(\"Number of Tags in the Corpus \", len(tags))"
   ]
  },
  {
   "cell_type": "code",
   "execution_count": 8,
   "metadata": {
    "colab": {
     "base_uri": "https://localhost:8080/",
     "height": 52
    },
    "colab_type": "code",
    "id": "O5VUfotz4512",
    "outputId": "b32bb502-5afe-4cec-df30-392decd5bacf"
   },
   "outputs": [
    {
     "name": "stdout",
     "output_type": "stream",
     "text": [
      "Number of Sentences in Training Data  8024\n",
      "Number of Sentences in Testing Data  2006\n"
     ]
    }
   ],
   "source": [
    "train_set, test_set = train_test_split(tagged_sentences, test_size=0.2, random_state=42)\n",
    "print(\"Number of Sentences in Training Data \", len(train_set))\n",
    "print(\"Number of Sentences in Testing Data \", len(test_set))"
   ]
  },
  {
   "cell_type": "code",
   "execution_count": 9,
   "metadata": {
    "colab": {},
    "colab_type": "code",
    "id": "HIMOkebA45qx"
   },
   "outputs": [],
   "source": [
    "def features(sentence, index):\n",
    "    ### sentence is of the form [w1,w2,w3,..], index is the position of the word in the sentence\n",
    "    return {\n",
    "        'is_first_capital':int(sentence[index][0].isupper()),\n",
    "        'is_first_word': int(index == 0),\n",
    "        'is_last_word':int(index == len(sentence)-1),\n",
    "        'is_complete_capital': int(sentence[index].upper() == sentence[index]),\n",
    "        'prev_word':'' if index == 0 else sentence[index-1],\n",
    "        'next_word':'' if index == len(sentence)-1 else sentence[index+1],\n",
    "        'is_numeric':int(sentence[index].isdigit()),\n",
    "        'is_alphanumeric': int(bool((re.match('^(?=.*[0-9]$)(?=.*[a-zA-Z])', sentence[index])))),\n",
    "        'prefix_1':sentence[index][0],\n",
    "        'prefix_2': sentence[index][:2],\n",
    "        'prefix_3':sentence[index][:3],\n",
    "        'prefix_4':sentence[index][:4],\n",
    "        'suffix_1':sentence[index][-1],\n",
    "        'suffix_2':sentence[index][-2:],\n",
    "        'suffix_3':sentence[index][-3:],\n",
    "        'suffix_4':sentence[index][-4:],\n",
    "        'word_has_hyphen': 1 if '-' in sentence[index] else 0 \n",
    "         }\n",
    "  \n",
    "def untag(sentence):\n",
    "    return [word for word, tag in sentence]\n",
    "\n",
    "\n",
    "def prepareData(tagged_sentences):\n",
    "    X, y = [], []\n",
    "    for sentences in tagged_sentences:\n",
    "        X.append([features(untag(sentences), index) for index in range(len(sentences))])\n",
    "        y.append([tag for word, tag in sentences])\n",
    "    return X, y\n",
    "\n",
    "X_train, y_train = prepareData(train_set)\n",
    "X_test, y_test = prepareData(test_set)"
   ]
  },
  {
   "cell_type": "markdown",
   "metadata": {
    "colab_type": "text",
    "id": "fm4CRy8c7FdK"
   },
   "source": [
    "## First Model Iteration"
   ]
  },
  {
   "cell_type": "code",
   "execution_count": null,
   "metadata": {
    "colab": {
     "base_uri": "https://localhost:8080/",
     "height": 177
    },
    "colab_type": "code",
    "id": "Cv1H_-xD5OxW",
    "outputId": "5ef58321-971d-469e-8dfc-fbbf6506ed30"
   },
   "outputs": [],
   "source": [
    "crf = CRF(\n",
    "    algorithm='lbfgs',\n",
    "    c1=0.01,\n",
    "    c2=0.1,\n",
    "    max_iterations=100,\n",
    "    all_possible_transitions=True\n",
    ")\n",
    "crf.fit(X_train, y_train)"
   ]
  },
  {
   "cell_type": "code",
   "execution_count": 0,
   "metadata": {
    "colab": {},
    "colab_type": "code",
    "id": "sbuVPM_MtldX"
   },
   "outputs": [],
   "source": [
    "cv_results = cross_validate(crf, X_train, y_train, cv=3, return_train_score=False)"
   ]
  },
  {
   "cell_type": "code",
   "execution_count": 0,
   "metadata": {
    "colab": {},
    "colab_type": "code",
    "id": "m2nJAr_5CvuH"
   },
   "outputs": [],
   "source": [
    "y_pred = crf.predict(X_test)\n",
    "y_pred_train = crf.predict(X_train)"
   ]
  },
  {
   "cell_type": "markdown",
   "metadata": {
    "colab_type": "text",
    "id": "5WonxezIqyfc"
   },
   "source": [
    "### precision, recall, and F1 scores"
   ]
  },
  {
   "cell_type": "code",
   "execution_count": 0,
   "metadata": {
    "colab": {
     "base_uri": "https://localhost:8080/",
     "height": 550
    },
    "colab_type": "code",
    "id": "eBLt97W3Cq97",
    "outputId": "417bb96c-30c0-422b-f0e1-b35f60427435"
   },
   "outputs": [
    {
     "name": "stdout",
     "output_type": "stream",
     "text": [
      "              precision    recall  f1-score   support\n",
      "\n",
      "          VB      0.991     0.988     0.989      6283\n",
      "          CD      0.993     0.992     0.992      3587\n",
      "          NN      0.969     0.974     0.971     12439\n",
      "          IN      0.958     0.969     0.963      4160\n",
      "          PR      0.997     0.993     0.995      1089\n",
      "           Z      0.998     0.998     0.998      5200\n",
      "          CC      0.988     0.977     0.983      1483\n",
      "          MD      0.995     0.985     0.990      1034\n",
      "          SC      0.948     0.949     0.949      2597\n",
      "          JJ      0.943     0.944     0.944      1945\n",
      "         PRP      0.999     0.992     0.995      1484\n",
      "          RB      0.981     0.963     0.972       980\n",
      "         NNP      0.947     0.960     0.953      6550\n",
      "          FW      0.901     0.791     0.842       473\n",
      "         NEG      0.993     0.993     0.993       282\n",
      "         SYM      0.998     0.993     0.995       439\n",
      "         NND      0.953     0.901     0.926       292\n",
      "          OD      0.917     0.880     0.898       150\n",
      "          WH      0.955     0.875     0.913        48\n",
      "           X      0.735     0.347     0.472        72\n",
      "          RP      0.973     0.973     0.973        37\n",
      "          DT      1.000     0.975     0.987        79\n",
      "          UH      0.667     0.667     0.667         3\n",
      "\n",
      "   micro avg      0.973     0.973     0.973     50706\n",
      "   macro avg      0.948     0.916     0.929     50706\n",
      "weighted avg      0.973     0.973     0.972     50706\n",
      "\n"
     ]
    }
   ],
   "source": [
    "print(metrics.flat_classification_report(\n",
    "    y_test, y_pred, labels=crf.classes_, digits=3\n",
    "))"
   ]
  },
  {
   "cell_type": "markdown",
   "metadata": {
    "colab_type": "text",
    "id": "lv3IPIj8FZE3"
   },
   "source": [
    "#### Confusion Matrix"
   ]
  },
  {
   "cell_type": "code",
   "execution_count": 0,
   "metadata": {
    "colab": {},
    "colab_type": "code",
    "id": "dvCWXHpvAqkM"
   },
   "outputs": [],
   "source": [
    "import itertools\n",
    "\n",
    "def flatten(ls):\n",
    "  return list(itertools.chain.from_iterable(ls))"
   ]
  },
  {
   "cell_type": "code",
   "execution_count": 0,
   "metadata": {
    "colab": {
     "base_uri": "https://localhost:8080/",
     "height": 675
    },
    "colab_type": "code",
    "id": "7_qpB0ZDA7hl",
    "outputId": "3a096860-4489-480a-ae89-960fdb24e8a2"
   },
   "outputs": [
    {
     "name": "stdout",
     "output_type": "stream",
     "text": [
      "Confusion matrix, without normalization\n"
     ]
    },
    {
     "data": {
      "image/png": "[encoded data removed]",
      "text/plain": [
       "<Figure size 864x648 with 2 Axes>"
      ]
     },
     "metadata": {
      "tags": []
     },
     "output_type": "display_data"
    }
   ],
   "source": [
    "from sklearn.metrics import confusion_matrix\n",
    "from sklearn.utils.multiclass import unique_labels\n",
    "import matplotlib.pyplot as plt\n",
    "import numpy as np\n",
    "%matplotlib inline\n",
    "\n",
    "def plot_confusion_matrix(y_true, y_pred, classes,\n",
    "                          normalize=False,\n",
    "                          title=None,\n",
    "                          cmap=plt.cm.Blues):\n",
    "    \"\"\"\n",
    "    This function prints and plots the confusion matrix.\n",
    "    Normalization can be applied by setting `normalize=True`.\n",
    "    \"\"\"\n",
    "    if not title:\n",
    "        if normalize:\n",
    "            title = 'Normalized confusion matrix'\n",
    "        else:\n",
    "            title = 'Confusion matrix, without normalization'\n",
    "\n",
    "    # Compute confusion matrix\n",
    "    cm = confusion_matrix(y_true, y_pred)\n",
    "    # Only use the labels that appear in the data\n",
    "    # classes = classes[unique_labels(y_true, y_pred)]\n",
    "    if normalize:\n",
    "        cm = cm.astype('float') / cm.sum(axis=1)[:, np.newaxis]\n",
    "        print(\"Normalized confusion matrix\")\n",
    "    else:\n",
    "        print('Confusion matrix, without normalization')\n",
    "\n",
    "    # print(cm)\n",
    "\n",
    "    fig, ax = plt.subplots(figsize=(12, 9))\n",
    "    im = ax.imshow(cm, interpolation='nearest', cmap=cmap)\n",
    "    ax.figure.colorbar(im, ax=ax)\n",
    "    # We want to show all ticks...\n",
    "    ax.set(xticks=np.arange(cm.shape[1]),\n",
    "           yticks=np.arange(cm.shape[0]),\n",
    "           # ... and label them with the respective list entries\n",
    "           xticklabels=classes, yticklabels=classes,\n",
    "           title=title,\n",
    "           ylabel='True label',\n",
    "           xlabel='Predicted label')\n",
    "\n",
    "    # Rotate the tick labels and set their alignment.\n",
    "    plt.setp(ax.get_xticklabels(), rotation=45, ha=\"right\",\n",
    "             rotation_mode=\"anchor\")\n",
    "\n",
    "    # Loop over data dimensions and create text annotations.\n",
    "    fmt = '.2f' if normalize else 'd'\n",
    "    thresh = cm.max() / 2.\n",
    "    for i in range(cm.shape[0]):\n",
    "        for j in range(cm.shape[1]):\n",
    "            ax.text(j, i, format(cm[i, j], fmt),\n",
    "                    ha=\"center\", va=\"center\",\n",
    "                    color=\"white\" if cm[i, j] > thresh else \"black\")\n",
    "    fig.tight_layout()\n",
    "    return ax\n",
    "  \n",
    "plot_confusion_matrix(flatten(y_test), flatten(y_pred), classes=crf.classes_,\n",
    "                      title='Confusion matrix, without normalization');"
   ]
  },
  {
   "cell_type": "markdown",
   "metadata": {
    "colab_type": "text",
    "id": "h2TMWF4-F3NV"
   },
   "source": [
    "#### Feature Ablation"
   ]
  },
  {
   "cell_type": "code",
   "execution_count": 0,
   "metadata": {
    "colab": {},
    "colab_type": "code",
    "id": "ceXl0GPaF5kN"
   },
   "outputs": [],
   "source": [
    "def feature_ablation(d, entriesToRemove = None):\n",
    "  for k in entriesToRemove:\n",
    "      d.pop(k, None)\n",
    "  return d\n",
    "      \n",
    "def features(sentence, index, entriesToRemove = None):\n",
    "    ### sentence is of the form [w1,w2,w3,..], index is the position of the word in the sentence\n",
    "    ### and entriestoRemove type is tuple\n",
    "    d = {\n",
    "        'is_first_capital':int(sentence[index][0].isupper()),\n",
    "        'is_first_word': int(index == 0),\n",
    "        'is_last_word':int(index == len(sentence)-1),\n",
    "        'is_complete_capital': int(sentence[index].upper() == sentence[index]),\n",
    "        'prev_word':'' if index == 0 else sentence[index-1],\n",
    "        'next_word':'' if index == len(sentence)-1 else sentence[index+1],\n",
    "        'is_numeric':int(sentence[index].isdigit()),\n",
    "        'is_alphanumeric': int(bool((re.match('^(?=.*[0-9]$)(?=.*[a-zA-Z])', sentence[index])))),\n",
    "        'prefix_1':sentence[index][0],\n",
    "        'prefix_2': sentence[index][:2],\n",
    "        'prefix_3':sentence[index][:3],\n",
    "        'prefix_4':sentence[index][:4],\n",
    "        'suffix_1':sentence[index][-1],\n",
    "        'suffix_2':sentence[index][-2:],\n",
    "        'suffix_3':sentence[index][-3:],\n",
    "        'suffix_4':sentence[index][-4:],\n",
    "        'word_has_hyphen': 1 if '-' in sentence[index] else 0 \n",
    "         }\n",
    "    \n",
    "    if not entriesToRemove:\n",
    "      return d\n",
    "    else:\n",
    "      return feature_ablation(d, entriesToRemove)\n",
    "                \n",
    "def untag(sentence):\n",
    "  return [word for word, tag in sentence]\n",
    "\n",
    "\n",
    "def prepareData(tagged_sentences):\n",
    "    X, y = [], []\n",
    "    entriesToRemove = tuple(['suffix_1', 'suffix_2', 'suffix_3', 'suffix_4'])\n",
    "    for sentences in tagged_sentences:\n",
    "        X.append([features(untag(sentences), index, entriesToRemove) for index in range(len(sentences))])\n",
    "        y.append([tag for word, tag in sentences])\n",
    "    return X, y\n",
    "\n",
    "X_train, y_train = prepareData(train_set)\n",
    "X_test, y_test = prepareData(test_set)"
   ]
  },
  {
   "cell_type": "code",
   "execution_count": 0,
   "metadata": {
    "colab": {
     "base_uri": "https://localhost:8080/",
     "height": 550
    },
    "colab_type": "code",
    "id": "EdVoozH8Wsih",
    "outputId": "5b6304cf-7925-4786-d497-3b3557973e17"
   },
   "outputs": [
    {
     "name": "stdout",
     "output_type": "stream",
     "text": [
      "              precision    recall  f1-score   support\n",
      "\n",
      "          VB      0.963     0.970     0.967      6283\n",
      "          CD      0.976     0.979     0.978      3587\n",
      "          NN      0.948     0.954     0.951     12439\n",
      "          IN      0.934     0.944     0.939      4160\n",
      "          PR      0.983     0.991     0.987      1089\n",
      "           Z      0.998     0.998     0.998      5200\n",
      "          CC      0.979     0.961     0.970      1483\n",
      "          MD      0.978     0.982     0.980      1034\n",
      "          SC      0.929     0.930     0.929      2597\n",
      "          JJ      0.879     0.863     0.871      1945\n",
      "         PRP      0.991     0.985     0.988      1484\n",
      "          RB      0.925     0.898     0.911       980\n",
      "         NNP      0.943     0.956     0.949      6550\n",
      "          FW      0.902     0.704     0.791       473\n",
      "         NEG      0.972     0.993     0.982       282\n",
      "         SYM      0.998     0.993     0.995       439\n",
      "         NND      0.931     0.884     0.907       292\n",
      "          OD      0.818     0.747     0.780       150\n",
      "          WH      0.917     0.688     0.786        48\n",
      "           X      0.538     0.194     0.286        72\n",
      "          RP      0.973     0.973     0.973        37\n",
      "          DT      0.927     0.962     0.944        79\n",
      "          UH      0.667     0.667     0.667         3\n",
      "\n",
      "   micro avg      0.954     0.954     0.954     50706\n",
      "   macro avg      0.916     0.879     0.893     50706\n",
      "weighted avg      0.954     0.954     0.954     50706\n",
      "\n"
     ]
    }
   ],
   "source": [
    "crf.fit(X_train, y_train)\n",
    "\n",
    "y_pred = crf.predict(X_test)\n",
    "y_pred_train = crf.predict(X_train)\n",
    "\n",
    "print(metrics.flat_classification_report(\n",
    "    y_test, y_pred, labels=crf.classes_, digits=3\n",
    "))"
   ]
  },
  {
   "cell_type": "markdown",
   "metadata": {
    "colab_type": "text",
    "id": "n-tX4RACEH9O"
   },
   "source": [
    "#### Previous Metrics Used"
   ]
  },
  {
   "cell_type": "code",
   "execution_count": 0,
   "metadata": {
    "colab": {
     "base_uri": "https://localhost:8080/",
     "height": 35
    },
    "colab_type": "code",
    "id": "hWnd_u627A9E",
    "outputId": "7acfaf29-4eac-4a2a-c052-5ef3d3c5a1d2"
   },
   "outputs": [
    {
     "data": {
      "text/plain": [
       "0.9724534681067327"
      ]
     },
     "execution_count": 15,
     "metadata": {
      "tags": []
     },
     "output_type": "execute_result"
    }
   ],
   "source": [
    "metrics.flat_f1_score(y_test, y_pred, average='weighted', labels=crf.classes_)"
   ]
  },
  {
   "cell_type": "code",
   "execution_count": 0,
   "metadata": {
    "colab": {
     "base_uri": "https://localhost:8080/",
     "height": 35
    },
    "colab_type": "code",
    "id": "lfsrZ3uJ7A9O",
    "outputId": "d5c524a5-231e-4e6d-e3d6-a8d748c5bc6b"
   },
   "outputs": [
    {
     "data": {
      "text/plain": [
       "0.9945989057594046"
      ]
     },
     "execution_count": 16,
     "metadata": {
      "tags": []
     },
     "output_type": "execute_result"
    }
   ],
   "source": [
    "metrics.flat_f1_score(y_train, y_pred_train, average='weighted', labels=crf.classes_)"
   ]
  },
  {
   "cell_type": "code",
   "execution_count": 0,
   "metadata": {
    "colab": {
     "base_uri": "https://localhost:8080/",
     "height": 35
    },
    "colab_type": "code",
    "id": "I4dh7wH-7A9v",
    "outputId": "79308f4d-b3fc-41a9-fbfe-5dd3c9558bc6"
   },
   "outputs": [
    {
     "data": {
      "text/plain": [
       "0.9726862168931312"
      ]
     },
     "execution_count": 17,
     "metadata": {
      "tags": []
     },
     "output_type": "execute_result"
    }
   ],
   "source": [
    "metrics.flat_accuracy_score(y_test, y_pred)"
   ]
  },
  {
   "cell_type": "code",
   "execution_count": 0,
   "metadata": {
    "colab": {
     "base_uri": "https://localhost:8080/",
     "height": 35
    },
    "colab_type": "code",
    "id": "3OijVcF57A95",
    "outputId": "77ff23f4-724f-4662-f6e9-21fd707ac640"
   },
   "outputs": [
    {
     "data": {
      "text/plain": [
       "0.9946048580558065"
      ]
     },
     "execution_count": 18,
     "metadata": {
      "tags": []
     },
     "output_type": "execute_result"
    }
   ],
   "source": [
    "metrics.flat_accuracy_score(y_train, y_pred_train)"
   ]
  },
  {
   "cell_type": "code",
   "execution_count": 0,
   "metadata": {
    "colab": {
     "base_uri": "https://localhost:8080/",
     "height": 550
    },
    "colab_type": "code",
    "id": "Dndb4cBm7A-F",
    "outputId": "220ff408-0c6c-418b-e095-3f31032abbe0"
   },
   "outputs": [
    {
     "name": "stdout",
     "output_type": "stream",
     "text": [
      "              precision    recall  f1-score   support\n",
      "\n",
      "          VB      0.991     0.988     0.989      6283\n",
      "          CD      0.993     0.992     0.992      3587\n",
      "          NN      0.969     0.974     0.971     12439\n",
      "          IN      0.958     0.969     0.963      4160\n",
      "          PR      0.997     0.993     0.995      1089\n",
      "           Z      0.998     0.998     0.998      5200\n",
      "          CC      0.988     0.977     0.983      1483\n",
      "          MD      0.995     0.985     0.990      1034\n",
      "          SC      0.948     0.949     0.949      2597\n",
      "          JJ      0.943     0.944     0.944      1945\n",
      "         PRP      0.999     0.992     0.995      1484\n",
      "          RB      0.981     0.963     0.972       980\n",
      "         NNP      0.947     0.960     0.953      6550\n",
      "          FW      0.901     0.791     0.842       473\n",
      "         NEG      0.993     0.993     0.993       282\n",
      "         SYM      0.998     0.993     0.995       439\n",
      "         NND      0.953     0.901     0.926       292\n",
      "          OD      0.917     0.880     0.898       150\n",
      "          WH      0.955     0.875     0.913        48\n",
      "           X      0.735     0.347     0.472        72\n",
      "          RP      0.973     0.973     0.973        37\n",
      "          DT      1.000     0.975     0.987        79\n",
      "          UH      0.667     0.667     0.667         3\n",
      "\n",
      "   micro avg      0.973     0.973     0.973     50706\n",
      "   macro avg      0.948     0.916     0.929     50706\n",
      "weighted avg      0.973     0.973     0.972     50706\n",
      "\n"
     ]
    }
   ],
   "source": [
    "print(metrics.flat_classification_report(\n",
    "    y_test, y_pred, labels=crf.classes_, digits=3\n",
    "))"
   ]
  },
  {
   "cell_type": "markdown",
   "metadata": {
    "colab_type": "text",
    "id": "6zZYWT_m6uNg"
   },
   "source": [
    "## Hyperparameter Optimization"
   ]
  },
  {
   "cell_type": "code",
   "execution_count": 0,
   "metadata": {
    "colab": {
     "base_uri": "https://localhost:8080/",
     "height": 239
    },
    "colab_type": "code",
    "id": "kmIFCJ0z5rty",
    "outputId": "7c0aeff4-a7f3-4737-fe02-4bb253fd9560"
   },
   "outputs": [
    {
     "ename": "NameError",
     "evalue": "ignored",
     "output_type": "error",
     "traceback": [
      "\u001b[0;31m---------------------------------------------------------------------------\u001b[0m",
      "\u001b[0;31mNameError\u001b[0m                                 Traceback (most recent call last)",
      "\u001b[0;32m<ipython-input-1-8ee95f15e252>\u001b[0m in \u001b[0;36m<module>\u001b[0;34m()\u001b[0m\n\u001b[0;32m----> 1\u001b[0;31m \u001b[0mlabels\u001b[0m \u001b[0;34m=\u001b[0m \u001b[0mcrf\u001b[0m\u001b[0;34m.\u001b[0m\u001b[0mclasses_\u001b[0m\u001b[0;34m\u001b[0m\u001b[0;34m\u001b[0m\u001b[0m\n\u001b[0m\u001b[1;32m      2\u001b[0m \u001b[0;34m\u001b[0m\u001b[0m\n\u001b[1;32m      3\u001b[0m \u001b[0;31m# define fixed parameters and parameters to search\u001b[0m\u001b[0;34m\u001b[0m\u001b[0;34m\u001b[0m\u001b[0;34m\u001b[0m\u001b[0m\n\u001b[1;32m      4\u001b[0m crf = CRF(\n\u001b[1;32m      5\u001b[0m     \u001b[0malgorithm\u001b[0m\u001b[0;34m=\u001b[0m\u001b[0;34m'lbfgs'\u001b[0m\u001b[0;34m,\u001b[0m\u001b[0;34m\u001b[0m\u001b[0;34m\u001b[0m\u001b[0m\n",
      "\u001b[0;31mNameError\u001b[0m: name 'crf' is not defined"
     ]
    }
   ],
   "source": [
    "# labels = crf.classes_\n",
    "\n",
    "# # define fixed parameters and parameters to search\n",
    "# crf = CRF(\n",
    "#     algorithm='lbfgs',\n",
    "#     max_iterations=100,\n",
    "#     all_possible_transitions=True\n",
    "# )\n",
    "# params_space = {\n",
    "#     'c1': scipy.stats.expon(scale=0.5),\n",
    "#     'c2': scipy.stats.expon(scale=0.05),\n",
    "# }\n",
    "\n",
    "# # use the same metric for evaluation\n",
    "# f1_scorer = make_scorer(metrics.flat_f1_score,\n",
    "#                         average='weighted', labels=labels)\n",
    "\n",
    "# # search\n",
    "# rs = RandomizedSearchCV(crf, params_space,\n",
    "#                         cv=3,\n",
    "#                         verbose=1,\n",
    "#                         n_jobs=-1,\n",
    "#                         n_iter=50,\n",
    "#                         scoring=f1_scorer)\n",
    "# rs.fit(X_train, y_train)"
   ]
  },
  {
   "cell_type": "code",
   "execution_count": 0,
   "metadata": {
    "colab": {},
    "colab_type": "code",
    "id": "Zlt4wzn26kwq"
   },
   "outputs": [],
   "source": [
    "# crf = rs.best_estimator_\n",
    "print('best params:', rs.best_params_)\n",
    "print('best CV score:', rs.best_score_)\n",
    "print('model size: {:0.2f}M'.format(rs.best_estimator_.size_ / 1000000))"
   ]
  },
  {
   "cell_type": "code",
   "execution_count": 0,
   "metadata": {
    "colab": {},
    "colab_type": "code",
    "id": "tAZRZHnP6rhu"
   },
   "outputs": [],
   "source": [
    "_x = [s.parameters['c1'] for s in rs.grid_scores_]\n",
    "_y = [s.parameters['c2'] for s in rs.grid_scores_]\n",
    "_c = [s.mean_validation_score for s in rs.grid_scores_]\n",
    "\n",
    "fig = plt.figure()\n",
    "fig.set_size_inches(12, 12)\n",
    "ax = plt.gca()\n",
    "ax.set_yscale('log')\n",
    "ax.set_xscale('log')\n",
    "ax.set_xlabel('C1')\n",
    "ax.set_ylabel('C2')\n",
    "ax.set_title(\"Randomized Hyperparameter Search CV Results (min={:0.3}, max={:0.3})\".format(\n",
    "    min(_c), max(_c)\n",
    "))\n",
    "\n",
    "ax.scatter(_x, _y, c=_c, s=60, alpha=0.9, edgecolors=[0,0,0])\n",
    "\n",
    "print(\"Dark blue => {:0.4}, dark red => {:0.4}\".format(min(_c), max(_c)))"
   ]
  },
  {
   "cell_type": "code",
   "execution_count": 0,
   "metadata": {
    "colab": {},
    "colab_type": "code",
    "id": "rXdjQ-w05OU2"
   },
   "outputs": [],
   "source": [
    "y_pred = crf.predict(X_test)"
   ]
  },
  {
   "cell_type": "code",
   "execution_count": 0,
   "metadata": {
    "colab": {
     "base_uri": "https://localhost:8080/",
     "height": 35
    },
    "colab_type": "code",
    "id": "CkfmA17c5NA6",
    "outputId": "01af722c-aac7-4b27-bdf9-5c7cc252be2f"
   },
   "outputs": [
    {
     "data": {
      "text/plain": [
       "0.9724534681067327"
      ]
     },
     "execution_count": 23,
     "metadata": {
      "tags": []
     },
     "output_type": "execute_result"
    }
   ],
   "source": [
    "metrics.flat_f1_score(y_test, y_pred, average='weighted', labels=crf.classes_)"
   ]
  },
  {
   "cell_type": "code",
   "execution_count": 0,
   "metadata": {
    "colab": {
     "base_uri": "https://localhost:8080/",
     "height": 35
    },
    "colab_type": "code",
    "id": "Tp7Zbty544ZX",
    "outputId": "1732df87-714d-4fd8-8314-09395cf41c68"
   },
   "outputs": [
    {
     "data": {
      "text/plain": [
       "0.9945989057594046"
      ]
     },
     "execution_count": 24,
     "metadata": {
      "tags": []
     },
     "output_type": "execute_result"
    }
   ],
   "source": [
    "y_pred_train = crf.predict(X_train)\n",
    "metrics.flat_f1_score(y_train, y_pred_train, average='weighted', labels=crf.classes_)"
   ]
  },
  {
   "cell_type": "code",
   "execution_count": 0,
   "metadata": {
    "colab": {
     "base_uri": "https://localhost:8080/",
     "height": 35
    },
    "colab_type": "code",
    "id": "tsu6OHio6Agn",
    "outputId": "d7e150cd-409d-40be-f052-8f3f961182d6"
   },
   "outputs": [
    {
     "data": {
      "text/plain": [
       "0.9726862168931312"
      ]
     },
     "execution_count": 25,
     "metadata": {
      "tags": []
     },
     "output_type": "execute_result"
    }
   ],
   "source": [
    "metrics.flat_accuracy_score(y_test, y_pred)"
   ]
  },
  {
   "cell_type": "code",
   "execution_count": 0,
   "metadata": {
    "colab": {
     "base_uri": "https://localhost:8080/",
     "height": 35
    },
    "colab_type": "code",
    "id": "NucgJDTG6GJc",
    "outputId": "91de1e64-457e-4a44-af77-7d5b2de340a0"
   },
   "outputs": [
    {
     "data": {
      "text/plain": [
       "0.9946048580558065"
      ]
     },
     "execution_count": 26,
     "metadata": {
      "tags": []
     },
     "output_type": "execute_result"
    }
   ],
   "source": [
    "metrics.flat_accuracy_score(y_train, y_pred_train)"
   ]
  },
  {
   "cell_type": "code",
   "execution_count": 0,
   "metadata": {
    "colab": {
     "base_uri": "https://localhost:8080/",
     "height": 550
    },
    "colab_type": "code",
    "id": "mCjY2Lni6JYR",
    "outputId": "2e38a785-d278-4ce1-b38d-b52b6cb3b6a9"
   },
   "outputs": [
    {
     "name": "stdout",
     "output_type": "stream",
     "text": [
      "              precision    recall  f1-score   support\n",
      "\n",
      "          VB      0.991     0.988     0.989      6283\n",
      "          CD      0.993     0.992     0.992      3587\n",
      "          NN      0.969     0.974     0.971     12439\n",
      "          IN      0.958     0.969     0.963      4160\n",
      "          PR      0.997     0.993     0.995      1089\n",
      "           Z      0.998     0.998     0.998      5200\n",
      "          CC      0.988     0.977     0.983      1483\n",
      "          MD      0.995     0.985     0.990      1034\n",
      "          SC      0.948     0.949     0.949      2597\n",
      "          JJ      0.943     0.944     0.944      1945\n",
      "         PRP      0.999     0.992     0.995      1484\n",
      "          RB      0.981     0.963     0.972       980\n",
      "         NNP      0.947     0.960     0.953      6550\n",
      "          FW      0.901     0.791     0.842       473\n",
      "         NEG      0.993     0.993     0.993       282\n",
      "         SYM      0.998     0.993     0.995       439\n",
      "         NND      0.953     0.901     0.926       292\n",
      "          OD      0.917     0.880     0.898       150\n",
      "          WH      0.955     0.875     0.913        48\n",
      "           X      0.735     0.347     0.472        72\n",
      "          RP      0.973     0.973     0.973        37\n",
      "          DT      1.000     0.975     0.987        79\n",
      "          UH      0.667     0.667     0.667         3\n",
      "\n",
      "   micro avg      0.973     0.973     0.973     50706\n",
      "   macro avg      0.948     0.916     0.929     50706\n",
      "weighted avg      0.973     0.973     0.972     50706\n",
      "\n"
     ]
    }
   ],
   "source": [
    "print(metrics.flat_classification_report(\n",
    "    y_test, y_pred, labels=crf.classes_, digits=3\n",
    "))"
   ]
  },
  {
   "cell_type": "markdown",
   "metadata": {
    "colab_type": "text",
    "id": "8BSLjJALSMvI"
   },
   "source": [
    "## Exploratory"
   ]
  },
  {
   "cell_type": "code",
   "execution_count": 0,
   "metadata": {
    "colab": {},
    "colab_type": "code",
    "id": "Gu-OiMvwSOLq"
   },
   "outputs": [],
   "source": [
    "tags = [tag for word, tag in tagged_words]"
   ]
  },
  {
   "cell_type": "code",
   "execution_count": 0,
   "metadata": {
    "colab": {},
    "colab_type": "code",
    "id": "EPvKZ4gc6ror"
   },
   "outputs": [],
   "source": [
    "import matplotlib.pyplot as plt\n",
    "import seaborn as sns\n",
    "import numpy as np\n",
    "from collections import Counter\n",
    "plt.style.use('ggplot')\n",
    "%matplotlib inline"
   ]
  },
  {
   "cell_type": "code",
   "execution_count": 0,
   "metadata": {
    "colab": {},
    "colab_type": "code",
    "id": "We__9dYI679s"
   },
   "outputs": [],
   "source": [
    "keys, counts = np.unique(tags, return_counts=True)\n",
    "c = Counter(tag for _, tag in tagged_words)\n",
    "c.most_common()"
   ]
  },
  {
   "cell_type": "code",
   "execution_count": 0,
   "metadata": {
    "colab": {
     "base_uri": "https://localhost:8080/",
     "height": 394
    },
    "colab_type": "code",
    "id": "maZbaLMd7hWL",
    "outputId": "5ca88e16-5924-4b6f-f61a-8951bb63fe94"
   },
   "outputs": [
    {
     "data": {
      "text/plain": [
       "<BarContainer object of 24 artists>"
      ]
     },
     "execution_count": 64,
     "metadata": {
      "tags": []
     },
     "output_type": "execute_result"
    },
    {
     "data": {
      "image/png": "[encoded data removed]",
      "text/plain": [
       "<Figure size 1080x432 with 1 Axes>"
      ]
     },
     "metadata": {
      "tags": []
     },
     "output_type": "display_data"
    }
   ],
   "source": [
    "tags, counts = zip(*c.most_common())\n",
    "plt.figure(figsize=(15, 6))\n",
    "plt.bar(range(len(tags)), counts, tick_label=tags)"
   ]
  },
  {
   "cell_type": "code",
   "execution_count": 0,
   "metadata": {
    "colab": {
     "base_uri": "https://localhost:8080/",
     "height": 353
    },
    "colab_type": "code",
    "id": "cocb8YHC8TXl",
    "outputId": "ce9d2e2e-3c44-4238-f0b9-54430837521e"
   },
   "outputs": [
    {
     "data": {
      "text/plain": [
       "[(('FW', 'FW'), 5.430697),\n",
       " (('NNP', 'NNP'), 5.027061),\n",
       " (('NN', 'NN'), 3.128899),\n",
       " (('CD', 'NND'), 2.899531),\n",
       " (('NND', 'NN'), 2.735116),\n",
       " (('NN', 'JJ'), 2.60922),\n",
       " (('FW', 'X'), 2.573882),\n",
       " (('VB', 'NN'), 2.377382),\n",
       " (('CD', 'NN'), 2.262913),\n",
       " (('IN', 'NN'), 2.188129),\n",
       " (('MD', 'VB'), 2.154137),\n",
       " (('RB', 'JJ'), 1.967941),\n",
       " (('NND', 'NND'), 1.959163),\n",
       " (('NN', 'FW'), 1.85816),\n",
       " (('DT', 'NN'), 1.825163),\n",
       " (('SC', 'NN'), 1.711053),\n",
       " (('PRP', 'VB'), 1.685623),\n",
       " (('X', 'X'), 1.681162),\n",
       " (('NN', 'X'), 1.680572),\n",
       " (('SC', 'VB'), 1.644478)]"
      ]
     },
     "execution_count": 71,
     "metadata": {
      "tags": []
     },
     "output_type": "execute_result"
    }
   ],
   "source": [
    "Counter(crf.transition_features_).most_common(20)"
   ]
  },
  {
   "cell_type": "code",
   "execution_count": 0,
   "metadata": {
    "colab": {
     "base_uri": "https://localhost:8080/",
     "height": 353
    },
    "colab_type": "code",
    "id": "fIP2A6aaEuDW",
    "outputId": "8f44b6bd-41e1-44fa-c1c2-752340078be5"
   },
   "outputs": [
    {
     "data": {
      "text/plain": [
       "[(('NEG', 'RP'), -1.485512),\n",
       " (('NEG', 'PRP'), -1.498597),\n",
       " (('NEG', 'CC'), -1.504881),\n",
       " (('SC', 'CC'), -1.541169),\n",
       " (('CD', 'NEG'), -1.559034),\n",
       " (('NEG', 'NNP'), -1.591638),\n",
       " (('CC', 'OD'), -1.612649),\n",
       " (('MD', 'PR'), -1.667278),\n",
       " (('RB', 'CC'), -1.710736),\n",
       " (('IN', 'NEG'), -1.720364),\n",
       " (('NNP', 'WH'), -1.734328),\n",
       " (('SC', 'OD'), -1.785886),\n",
       " (('PRP', 'NND'), -1.972032),\n",
       " (('WH', 'IN'), -2.019842),\n",
       " (('IN', 'IN'), -2.065791),\n",
       " (('PRP', 'PRP'), -2.098119),\n",
       " (('WH', 'MD'), -2.104171),\n",
       " (('MD', 'SC'), -2.598032),\n",
       " (('IN', 'CC'), -2.635035),\n",
       " (('IN', 'MD'), -3.125608)]"
      ]
     },
     "execution_count": 72,
     "metadata": {
      "tags": []
     },
     "output_type": "execute_result"
    }
   ],
   "source": [
    "Counter(crf.transition_features_).most_common()[-20:]"
   ]
  },
  {
   "cell_type": "code",
   "execution_count": 0,
   "metadata": {
    "colab": {
     "base_uri": "https://localhost:8080/",
     "height": 353
    },
    "colab_type": "code",
    "id": "enZoYEgnE0xn",
    "outputId": "8f3a9274-e8fd-40ee-b5d2-260d7aa3bc58"
   },
   "outputs": [
    {
     "data": {
      "text/plain": [
       "[(('suffix_4:mnya', 'SC'), 7.288268),\n",
       " (('suffix_4:mang', 'RB'), 6.808271),\n",
       " (('prefix_4:bers', 'IN'), 6.669543),\n",
       " (('suffix_4:rsen', 'CD'), 5.775705),\n",
       " (('prefix_3:ber', 'VB'), 5.737055),\n",
       " (('suffix_4:gkah', 'NN'), 5.735885),\n",
       " (('is_first_capital', 'NNP'), 5.550816),\n",
       " (('is_complete_capital', 'Z'), 5.045144),\n",
       " (('suffix_4:lasa', 'NNP'), 4.883297),\n",
       " (('prefix_4:berb', 'CD'), 4.88048),\n",
       " (('prefix_2:di', 'VB'), 4.834333),\n",
       " (('suffix_4:adak', 'RB'), 4.811211),\n",
       " (('suffix_4:urut', 'IN'), 4.783329),\n",
       " (('suffix_4:agai', 'IN'), 4.781865),\n",
       " (('suffix_4:esar', 'JJ'), 4.744588),\n",
       " (('prefix_4:dana', 'NN'), 4.735894),\n",
       " (('prefix_4:kura', 'RB'), 4.70777),\n",
       " (('suffix_4:rsih', 'JJ'), 4.691708),\n",
       " (('prefix_4:sama', 'JJ'), 4.636071),\n",
       " (('suffix_4:enai', 'IN'), 4.630181)]"
      ]
     },
     "execution_count": 73,
     "metadata": {
      "tags": []
     },
     "output_type": "execute_result"
    }
   ],
   "source": [
    "Counter(crf.state_features_).most_common(20)"
   ]
  },
  {
   "cell_type": "code",
   "execution_count": 0,
   "metadata": {
    "colab": {},
    "colab_type": "code",
    "id": "5fzrHZBfFUUR"
   },
   "outputs": [],
   "source": [
    "metrics.flat_classification_report()"
   ]
  }
 ],
 "metadata": {
  "accelerator": "GPU",
  "colab": {
   "collapsed_sections": [
    "6zZYWT_m6uNg"
   ],
   "name": "kata ai pos tagging.ipynb",
   "provenance": [],
   "version": "0.3.2"
  },
  "kernelspec": {
   "display_name": "Python 3",
   "language": "python",
   "name": "python3"
  },
  "language_info": {
   "codemirror_mode": {
    "name": "ipython",
    "version": 3
   },
   "file_extension": ".py",
   "mimetype": "text/x-python",
   "name": "python",
   "nbconvert_exporter": "python",
   "pygments_lexer": "ipython3",
   "version": "3.6.4"
  }
 },
 "nbformat": 4,
 "nbformat_minor": 1
}
